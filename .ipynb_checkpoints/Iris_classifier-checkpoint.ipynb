{
 "cells": [
  {
   "cell_type": "code",
   "execution_count": 102,
   "id": "26b5e9b4",
   "metadata": {},
   "outputs": [],
   "source": [
    "import pandas as pd\n",
    "import numpy as np\n",
    "import seaborn as sns\n",
    "import matplotlib.pyplot as plt\n",
    "import joblib"
   ]
  },
  {
   "cell_type": "code",
   "execution_count": 103,
   "id": "f19c2768",
   "metadata": {},
   "outputs": [],
   "source": [
    "iris = pd.read_csv(r\"C:\\Users\\91830\\Desktop\\iris_classifier\\iris_dataset\\Iris.csv\")"
   ]
  },
  {
   "cell_type": "code",
   "execution_count": 104,
   "id": "d04f1d89",
   "metadata": {},
   "outputs": [
    {
     "name": "stdout",
     "output_type": "stream",
     "text": [
      "<class 'pandas.core.frame.DataFrame'>\n",
      "RangeIndex: 150 entries, 0 to 149\n",
      "Data columns (total 6 columns):\n",
      " #   Column         Non-Null Count  Dtype  \n",
      "---  ------         --------------  -----  \n",
      " 0   Id             150 non-null    int64  \n",
      " 1   SepalLengthCm  150 non-null    float64\n",
      " 2   SepalWidthCm   150 non-null    float64\n",
      " 3   PetalLengthCm  150 non-null    float64\n",
      " 4   PetalWidthCm   150 non-null    float64\n",
      " 5   Species        150 non-null    object \n",
      "dtypes: float64(4), int64(1), object(1)\n",
      "memory usage: 7.2+ KB\n"
     ]
    }
   ],
   "source": [
    "iris.info()"
   ]
  },
  {
   "cell_type": "code",
   "execution_count": 105,
   "id": "f15828aa",
   "metadata": {},
   "outputs": [
    {
     "data": {
      "text/html": [
       "<div>\n",
       "<style scoped>\n",
       "    .dataframe tbody tr th:only-of-type {\n",
       "        vertical-align: middle;\n",
       "    }\n",
       "\n",
       "    .dataframe tbody tr th {\n",
       "        vertical-align: top;\n",
       "    }\n",
       "\n",
       "    .dataframe thead th {\n",
       "        text-align: right;\n",
       "    }\n",
       "</style>\n",
       "<table border=\"1\" class=\"dataframe\">\n",
       "  <thead>\n",
       "    <tr style=\"text-align: right;\">\n",
       "      <th></th>\n",
       "      <th>Id</th>\n",
       "      <th>SepalLengthCm</th>\n",
       "      <th>SepalWidthCm</th>\n",
       "      <th>PetalLengthCm</th>\n",
       "      <th>PetalWidthCm</th>\n",
       "      <th>Species</th>\n",
       "    </tr>\n",
       "  </thead>\n",
       "  <tbody>\n",
       "    <tr>\n",
       "      <th>0</th>\n",
       "      <td>1</td>\n",
       "      <td>5.1</td>\n",
       "      <td>3.5</td>\n",
       "      <td>1.4</td>\n",
       "      <td>0.2</td>\n",
       "      <td>Iris-setosa</td>\n",
       "    </tr>\n",
       "    <tr>\n",
       "      <th>1</th>\n",
       "      <td>2</td>\n",
       "      <td>4.9</td>\n",
       "      <td>3.0</td>\n",
       "      <td>1.4</td>\n",
       "      <td>0.2</td>\n",
       "      <td>Iris-setosa</td>\n",
       "    </tr>\n",
       "    <tr>\n",
       "      <th>2</th>\n",
       "      <td>3</td>\n",
       "      <td>4.7</td>\n",
       "      <td>3.2</td>\n",
       "      <td>1.3</td>\n",
       "      <td>0.2</td>\n",
       "      <td>Iris-setosa</td>\n",
       "    </tr>\n",
       "    <tr>\n",
       "      <th>3</th>\n",
       "      <td>4</td>\n",
       "      <td>4.6</td>\n",
       "      <td>3.1</td>\n",
       "      <td>1.5</td>\n",
       "      <td>0.2</td>\n",
       "      <td>Iris-setosa</td>\n",
       "    </tr>\n",
       "    <tr>\n",
       "      <th>4</th>\n",
       "      <td>5</td>\n",
       "      <td>5.0</td>\n",
       "      <td>3.6</td>\n",
       "      <td>1.4</td>\n",
       "      <td>0.2</td>\n",
       "      <td>Iris-setosa</td>\n",
       "    </tr>\n",
       "  </tbody>\n",
       "</table>\n",
       "</div>"
      ],
      "text/plain": [
       "   Id  SepalLengthCm  SepalWidthCm  PetalLengthCm  PetalWidthCm      Species\n",
       "0   1            5.1           3.5            1.4           0.2  Iris-setosa\n",
       "1   2            4.9           3.0            1.4           0.2  Iris-setosa\n",
       "2   3            4.7           3.2            1.3           0.2  Iris-setosa\n",
       "3   4            4.6           3.1            1.5           0.2  Iris-setosa\n",
       "4   5            5.0           3.6            1.4           0.2  Iris-setosa"
      ]
     },
     "execution_count": 105,
     "metadata": {},
     "output_type": "execute_result"
    }
   ],
   "source": [
    "iris.head()"
   ]
  },
  {
   "cell_type": "code",
   "execution_count": 106,
   "id": "15c05898",
   "metadata": {},
   "outputs": [
    {
     "name": "stdout",
     "output_type": "stream",
     "text": [
      "['Iris-setosa' 'Iris-versicolor' 'Iris-virginica']\n"
     ]
    }
   ],
   "source": [
    "x = np.array(iris['Species'])\n",
    "print(np.unique(x))"
   ]
  },
  {
   "cell_type": "code",
   "execution_count": 107,
   "id": "685aa2b6",
   "metadata": {},
   "outputs": [
    {
     "data": {
      "text/plain": [
       "<bound method Series.unique of 0         Iris-setosa\n",
       "1         Iris-setosa\n",
       "2         Iris-setosa\n",
       "3         Iris-setosa\n",
       "4         Iris-setosa\n",
       "            ...      \n",
       "145    Iris-virginica\n",
       "146    Iris-virginica\n",
       "147    Iris-virginica\n",
       "148    Iris-virginica\n",
       "149    Iris-virginica\n",
       "Name: Species, Length: 150, dtype: object>"
      ]
     },
     "execution_count": 107,
     "metadata": {},
     "output_type": "execute_result"
    }
   ],
   "source": [
    "iris['Species'].unique"
   ]
  },
  {
   "cell_type": "code",
   "execution_count": 108,
   "id": "3046d9cc",
   "metadata": {},
   "outputs": [],
   "source": [
    "X= iris.drop('Species',axis=1)"
   ]
  },
  {
   "cell_type": "code",
   "execution_count": 109,
   "id": "6ceb7047",
   "metadata": {},
   "outputs": [],
   "source": [
    "y = iris['Species']"
   ]
  },
  {
   "cell_type": "code",
   "execution_count": 110,
   "id": "6dd3a7d9",
   "metadata": {},
   "outputs": [],
   "source": [
    "from sklearn.preprocessing import LabelBinarizer\n",
    "encoder = LabelBinarizer()\n",
    "y = encoder.fit_transform(y)"
   ]
  },
  {
   "cell_type": "code",
   "execution_count": 111,
   "id": "e00a011e",
   "metadata": {},
   "outputs": [],
   "source": [
    "from sklearn.model_selection import train_test_split\n",
    "from sklearn.preprocessing import MinMaxScaler"
   ]
  },
  {
   "cell_type": "code",
   "execution_count": 112,
   "id": "ee0cddca",
   "metadata": {},
   "outputs": [],
   "source": [
    "X_train, X_test, y_train, y_test = train_test_split(X, y, test_size=0.2, random_state=101)"
   ]
  },
  {
   "cell_type": "code",
   "execution_count": 113,
   "id": "73356524",
   "metadata": {},
   "outputs": [],
   "source": [
    "scaler = MinMaxScaler()"
   ]
  },
  {
   "cell_type": "code",
   "execution_count": 114,
   "id": "5d09cefd",
   "metadata": {},
   "outputs": [
    {
     "data": {
      "text/plain": [
       "MinMaxScaler()"
      ]
     },
     "execution_count": 114,
     "metadata": {},
     "output_type": "execute_result"
    }
   ],
   "source": [
    "scaler.fit(X_train)"
   ]
  },
  {
   "cell_type": "code",
   "execution_count": 115,
   "id": "d9b6da10",
   "metadata": {},
   "outputs": [],
   "source": [
    "scaled_X_train = scaler.transform(X_train)"
   ]
  },
  {
   "cell_type": "code",
   "execution_count": 116,
   "id": "a0a9c3f8",
   "metadata": {},
   "outputs": [],
   "source": [
    "scaled_X_test = scaler.transform(X_test)"
   ]
  },
  {
   "cell_type": "code",
   "execution_count": 117,
   "id": "e7d0aabd",
   "metadata": {},
   "outputs": [],
   "source": [
    "from tensorflow.keras.models import Sequential\n",
    "from tensorflow.keras.layers import Dense"
   ]
  },
  {
   "cell_type": "code",
   "execution_count": 118,
   "id": "a06d4f7e",
   "metadata": {},
   "outputs": [],
   "source": [
    "model = Sequential()\n",
    "model.add(Dense(units=5,activation='relu',input_shape=[5,]))\n",
    "\n",
    "# Last layer for multi-class classification of 3 species\n",
    "model.add(Dense(units=3,activation='softmax'))\n",
    "\n",
    "model.compile(optimizer='adam',\n",
    "              loss='categorical_crossentropy',metrics=['accuracy','mse','mae'])"
   ]
  },
  {
   "cell_type": "code",
   "execution_count": 119,
   "id": "953cd8d7",
   "metadata": {},
   "outputs": [],
   "source": [
    "from tensorflow.keras.callbacks import EarlyStopping"
   ]
  },
  {
   "cell_type": "code",
   "execution_count": 120,
   "id": "7118f975",
   "metadata": {},
   "outputs": [],
   "source": [
    "early_stop = EarlyStopping(patience=10)"
   ]
  },
  {
   "cell_type": "code",
   "execution_count": 121,
   "id": "bc1a0921",
   "metadata": {
    "scrolled": false
   },
   "outputs": [
    {
     "name": "stdout",
     "output_type": "stream",
     "text": [
      "Epoch 1/300\n",
      "4/4 [==============================] - 1s 66ms/step - loss: 1.0330 - accuracy: 0.5667 - mse: 0.2023 - mae: 0.4086 - val_loss: 1.1139 - val_accuracy: 0.4000 - val_mse: 0.2211 - val_mae: 0.4305\n",
      "Epoch 2/300\n",
      "4/4 [==============================] - 0s 9ms/step - loss: 1.0270 - accuracy: 0.5750 - mse: 0.2011 - mae: 0.4078 - val_loss: 1.1072 - val_accuracy: 0.4667 - val_mse: 0.2198 - val_mae: 0.4295\n",
      "Epoch 3/300\n",
      "4/4 [==============================] - 0s 11ms/step - loss: 1.0211 - accuracy: 0.6083 - mse: 0.1999 - mae: 0.4069 - val_loss: 1.1012 - val_accuracy: 0.4667 - val_mse: 0.2186 - val_mae: 0.4285\n",
      "Epoch 4/300\n",
      "4/4 [==============================] - 0s 10ms/step - loss: 1.0160 - accuracy: 0.6167 - mse: 0.1989 - mae: 0.4060 - val_loss: 1.0950 - val_accuracy: 0.4667 - val_mse: 0.2174 - val_mae: 0.4275\n",
      "Epoch 5/300\n",
      "4/4 [==============================] - 0s 9ms/step - loss: 1.0105 - accuracy: 0.6333 - mse: 0.1978 - mae: 0.4052 - val_loss: 1.0890 - val_accuracy: 0.4667 - val_mse: 0.2162 - val_mae: 0.4265\n",
      "Epoch 6/300\n",
      "4/4 [==============================] - 0s 9ms/step - loss: 1.0055 - accuracy: 0.6333 - mse: 0.1968 - mae: 0.4044 - val_loss: 1.0831 - val_accuracy: 0.5333 - val_mse: 0.2150 - val_mae: 0.4256\n",
      "Epoch 7/300\n",
      "4/4 [==============================] - 0s 10ms/step - loss: 1.0005 - accuracy: 0.6417 - mse: 0.1957 - mae: 0.4036 - val_loss: 1.0774 - val_accuracy: 0.5333 - val_mse: 0.2139 - val_mae: 0.4246\n",
      "Epoch 8/300\n",
      "4/4 [==============================] - 0s 9ms/step - loss: 0.9952 - accuracy: 0.6583 - mse: 0.1947 - mae: 0.4027 - val_loss: 1.0722 - val_accuracy: 0.5333 - val_mse: 0.2129 - val_mae: 0.4237\n",
      "Epoch 9/300\n",
      "4/4 [==============================] - 0s 10ms/step - loss: 0.9903 - accuracy: 0.6750 - mse: 0.1937 - mae: 0.4017 - val_loss: 1.0669 - val_accuracy: 0.5333 - val_mse: 0.2118 - val_mae: 0.4227\n",
      "Epoch 10/300\n",
      "4/4 [==============================] - 0s 10ms/step - loss: 0.9855 - accuracy: 0.6750 - mse: 0.1927 - mae: 0.4008 - val_loss: 1.0616 - val_accuracy: 0.5333 - val_mse: 0.2107 - val_mae: 0.4217\n",
      "Epoch 11/300\n",
      "4/4 [==============================] - 0s 10ms/step - loss: 0.9806 - accuracy: 0.6750 - mse: 0.1917 - mae: 0.3998 - val_loss: 1.0563 - val_accuracy: 0.5333 - val_mse: 0.2096 - val_mae: 0.4207\n",
      "Epoch 12/300\n",
      "4/4 [==============================] - 0s 10ms/step - loss: 0.9759 - accuracy: 0.6750 - mse: 0.1907 - mae: 0.3989 - val_loss: 1.0511 - val_accuracy: 0.5333 - val_mse: 0.2086 - val_mae: 0.4197\n",
      "Epoch 13/300\n",
      "4/4 [==============================] - 0s 9ms/step - loss: 0.9712 - accuracy: 0.6750 - mse: 0.1897 - mae: 0.3981 - val_loss: 1.0459 - val_accuracy: 0.5333 - val_mse: 0.2075 - val_mae: 0.4187\n",
      "Epoch 14/300\n",
      "4/4 [==============================] - 0s 9ms/step - loss: 0.9663 - accuracy: 0.6750 - mse: 0.1887 - mae: 0.3971 - val_loss: 1.0411 - val_accuracy: 0.5333 - val_mse: 0.2065 - val_mae: 0.4178\n",
      "Epoch 15/300\n",
      "4/4 [==============================] - 0s 10ms/step - loss: 0.9619 - accuracy: 0.6833 - mse: 0.1878 - mae: 0.3961 - val_loss: 1.0361 - val_accuracy: 0.5333 - val_mse: 0.2055 - val_mae: 0.4168\n",
      "Epoch 16/300\n",
      "4/4 [==============================] - 0s 10ms/step - loss: 0.9571 - accuracy: 0.6833 - mse: 0.1868 - mae: 0.3951 - val_loss: 1.0316 - val_accuracy: 0.5333 - val_mse: 0.2046 - val_mae: 0.4157\n",
      "Epoch 17/300\n",
      "4/4 [==============================] - 0s 10ms/step - loss: 0.9529 - accuracy: 0.6833 - mse: 0.1859 - mae: 0.3942 - val_loss: 1.0265 - val_accuracy: 0.5333 - val_mse: 0.2035 - val_mae: 0.4148\n",
      "Epoch 18/300\n",
      "4/4 [==============================] - 0s 10ms/step - loss: 0.9482 - accuracy: 0.6833 - mse: 0.1849 - mae: 0.3932 - val_loss: 1.0218 - val_accuracy: 0.5333 - val_mse: 0.2025 - val_mae: 0.4137\n",
      "Epoch 19/300\n",
      "4/4 [==============================] - 0s 10ms/step - loss: 0.9435 - accuracy: 0.6833 - mse: 0.1839 - mae: 0.3921 - val_loss: 1.0174 - val_accuracy: 0.5667 - val_mse: 0.2016 - val_mae: 0.4127\n",
      "Epoch 20/300\n",
      "4/4 [==============================] - 0s 9ms/step - loss: 0.9391 - accuracy: 0.6833 - mse: 0.1830 - mae: 0.3910 - val_loss: 1.0126 - val_accuracy: 0.5667 - val_mse: 0.2006 - val_mae: 0.4117\n",
      "Epoch 21/300\n",
      "4/4 [==============================] - 0s 9ms/step - loss: 0.9346 - accuracy: 0.6833 - mse: 0.1821 - mae: 0.3900 - val_loss: 1.0078 - val_accuracy: 0.5667 - val_mse: 0.1996 - val_mae: 0.4106\n",
      "Epoch 22/300\n",
      "4/4 [==============================] - 0s 10ms/step - loss: 0.9300 - accuracy: 0.6833 - mse: 0.1811 - mae: 0.3889 - val_loss: 1.0032 - val_accuracy: 0.5667 - val_mse: 0.1987 - val_mae: 0.4095\n",
      "Epoch 23/300\n",
      "4/4 [==============================] - 0s 9ms/step - loss: 0.9255 - accuracy: 0.6833 - mse: 0.1801 - mae: 0.3878 - val_loss: 0.9984 - val_accuracy: 0.5667 - val_mse: 0.1977 - val_mae: 0.4085\n",
      "Epoch 24/300\n",
      "4/4 [==============================] - 0s 9ms/step - loss: 0.9209 - accuracy: 0.6833 - mse: 0.1791 - mae: 0.3867 - val_loss: 0.9939 - val_accuracy: 0.5667 - val_mse: 0.1968 - val_mae: 0.4074\n",
      "Epoch 25/300\n",
      "4/4 [==============================] - 0s 9ms/step - loss: 0.9164 - accuracy: 0.6833 - mse: 0.1782 - mae: 0.3856 - val_loss: 0.9894 - val_accuracy: 0.5667 - val_mse: 0.1958 - val_mae: 0.4063\n",
      "Epoch 26/300\n",
      "4/4 [==============================] - 0s 9ms/step - loss: 0.9118 - accuracy: 0.6833 - mse: 0.1772 - mae: 0.3844 - val_loss: 0.9848 - val_accuracy: 0.5667 - val_mse: 0.1948 - val_mae: 0.4052\n",
      "Epoch 27/300\n",
      "4/4 [==============================] - 0s 9ms/step - loss: 0.9073 - accuracy: 0.6833 - mse: 0.1762 - mae: 0.3832 - val_loss: 0.9800 - val_accuracy: 0.5667 - val_mse: 0.1938 - val_mae: 0.4040\n",
      "Epoch 28/300\n",
      "4/4 [==============================] - 0s 9ms/step - loss: 0.9027 - accuracy: 0.6833 - mse: 0.1753 - mae: 0.3821 - val_loss: 0.9753 - val_accuracy: 0.5667 - val_mse: 0.1928 - val_mae: 0.4029\n",
      "Epoch 29/300\n",
      "4/4 [==============================] - 0s 9ms/step - loss: 0.8981 - accuracy: 0.6833 - mse: 0.1743 - mae: 0.3808 - val_loss: 0.9706 - val_accuracy: 0.5667 - val_mse: 0.1918 - val_mae: 0.4017\n",
      "Epoch 30/300\n",
      "4/4 [==============================] - 0s 9ms/step - loss: 0.8936 - accuracy: 0.6833 - mse: 0.1733 - mae: 0.3797 - val_loss: 0.9660 - val_accuracy: 0.5667 - val_mse: 0.1908 - val_mae: 0.4005\n",
      "Epoch 31/300\n",
      "4/4 [==============================] - 0s 10ms/step - loss: 0.8888 - accuracy: 0.6833 - mse: 0.1723 - mae: 0.3783 - val_loss: 0.9613 - val_accuracy: 0.5667 - val_mse: 0.1898 - val_mae: 0.3993\n",
      "Epoch 32/300\n",
      "4/4 [==============================] - 0s 9ms/step - loss: 0.8843 - accuracy: 0.6833 - mse: 0.1713 - mae: 0.3771 - val_loss: 0.9564 - val_accuracy: 0.5667 - val_mse: 0.1888 - val_mae: 0.3981\n",
      "Epoch 33/300\n",
      "4/4 [==============================] - 0s 9ms/step - loss: 0.8796 - accuracy: 0.6833 - mse: 0.1703 - mae: 0.3759 - val_loss: 0.9517 - val_accuracy: 0.5667 - val_mse: 0.1877 - val_mae: 0.3968\n",
      "Epoch 34/300\n",
      "4/4 [==============================] - 0s 9ms/step - loss: 0.8749 - accuracy: 0.6833 - mse: 0.1692 - mae: 0.3746 - val_loss: 0.9470 - val_accuracy: 0.5667 - val_mse: 0.1867 - val_mae: 0.3956\n",
      "Epoch 35/300\n",
      "4/4 [==============================] - 0s 9ms/step - loss: 0.8702 - accuracy: 0.6833 - mse: 0.1682 - mae: 0.3732 - val_loss: 0.9423 - val_accuracy: 0.5667 - val_mse: 0.1857 - val_mae: 0.3943\n",
      "Epoch 36/300\n",
      "4/4 [==============================] - 0s 10ms/step - loss: 0.8655 - accuracy: 0.6833 - mse: 0.1671 - mae: 0.3719 - val_loss: 0.9375 - val_accuracy: 0.5667 - val_mse: 0.1846 - val_mae: 0.3930\n",
      "Epoch 37/300\n",
      "4/4 [==============================] - 0s 10ms/step - loss: 0.8609 - accuracy: 0.6833 - mse: 0.1660 - mae: 0.3706 - val_loss: 0.9325 - val_accuracy: 0.5667 - val_mse: 0.1835 - val_mae: 0.3917\n",
      "Epoch 38/300\n",
      "4/4 [==============================] - 0s 10ms/step - loss: 0.8561 - accuracy: 0.6833 - mse: 0.1650 - mae: 0.3693 - val_loss: 0.9277 - val_accuracy: 0.5667 - val_mse: 0.1824 - val_mae: 0.3905\n",
      "Epoch 39/300\n",
      "4/4 [==============================] - 0s 10ms/step - loss: 0.8515 - accuracy: 0.6833 - mse: 0.1639 - mae: 0.3681 - val_loss: 0.9228 - val_accuracy: 0.5667 - val_mse: 0.1812 - val_mae: 0.3892\n",
      "Epoch 40/300\n",
      "4/4 [==============================] - 0s 10ms/step - loss: 0.8470 - accuracy: 0.6833 - mse: 0.1628 - mae: 0.3668 - val_loss: 0.9179 - val_accuracy: 0.5667 - val_mse: 0.1801 - val_mae: 0.3878\n",
      "Epoch 41/300\n"
     ]
    },
    {
     "name": "stdout",
     "output_type": "stream",
     "text": [
      "4/4 [==============================] - 0s 9ms/step - loss: 0.8423 - accuracy: 0.6833 - mse: 0.1617 - mae: 0.3655 - val_loss: 0.9131 - val_accuracy: 0.6000 - val_mse: 0.1790 - val_mae: 0.3865\n",
      "Epoch 42/300\n",
      "4/4 [==============================] - 0s 10ms/step - loss: 0.8379 - accuracy: 0.6833 - mse: 0.1607 - mae: 0.3643 - val_loss: 0.9085 - val_accuracy: 0.6000 - val_mse: 0.1779 - val_mae: 0.3853\n",
      "Epoch 43/300\n",
      "4/4 [==============================] - 0s 10ms/step - loss: 0.8336 - accuracy: 0.6833 - mse: 0.1596 - mae: 0.3630 - val_loss: 0.9041 - val_accuracy: 0.6000 - val_mse: 0.1769 - val_mae: 0.3841\n",
      "Epoch 44/300\n",
      "4/4 [==============================] - 0s 10ms/step - loss: 0.8293 - accuracy: 0.6833 - mse: 0.1586 - mae: 0.3618 - val_loss: 0.8999 - val_accuracy: 0.6000 - val_mse: 0.1759 - val_mae: 0.3829\n",
      "Epoch 45/300\n",
      "4/4 [==============================] - 0s 9ms/step - loss: 0.8252 - accuracy: 0.6833 - mse: 0.1577 - mae: 0.3606 - val_loss: 0.8956 - val_accuracy: 0.6000 - val_mse: 0.1749 - val_mae: 0.3817\n",
      "Epoch 46/300\n",
      "4/4 [==============================] - 0s 10ms/step - loss: 0.8210 - accuracy: 0.6833 - mse: 0.1567 - mae: 0.3593 - val_loss: 0.8918 - val_accuracy: 0.6000 - val_mse: 0.1740 - val_mae: 0.3805\n",
      "Epoch 47/300\n",
      "4/4 [==============================] - 0s 9ms/step - loss: 0.8170 - accuracy: 0.6833 - mse: 0.1558 - mae: 0.3580 - val_loss: 0.8879 - val_accuracy: 0.6000 - val_mse: 0.1732 - val_mae: 0.3793\n",
      "Epoch 48/300\n",
      "4/4 [==============================] - 0s 10ms/step - loss: 0.8131 - accuracy: 0.6833 - mse: 0.1549 - mae: 0.3568 - val_loss: 0.8838 - val_accuracy: 0.6000 - val_mse: 0.1723 - val_mae: 0.3781\n",
      "Epoch 49/300\n",
      "4/4 [==============================] - 0s 10ms/step - loss: 0.8092 - accuracy: 0.6833 - mse: 0.1541 - mae: 0.3556 - val_loss: 0.8801 - val_accuracy: 0.6000 - val_mse: 0.1715 - val_mae: 0.3769\n",
      "Epoch 50/300\n",
      "4/4 [==============================] - 0s 9ms/step - loss: 0.8051 - accuracy: 0.6833 - mse: 0.1532 - mae: 0.3543 - val_loss: 0.8762 - val_accuracy: 0.6000 - val_mse: 0.1707 - val_mae: 0.3758\n",
      "Epoch 51/300\n",
      "4/4 [==============================] - 0s 10ms/step - loss: 0.8012 - accuracy: 0.6833 - mse: 0.1524 - mae: 0.3531 - val_loss: 0.8724 - val_accuracy: 0.6000 - val_mse: 0.1699 - val_mae: 0.3747\n",
      "Epoch 52/300\n",
      "4/4 [==============================] - 0s 10ms/step - loss: 0.7973 - accuracy: 0.6833 - mse: 0.1515 - mae: 0.3518 - val_loss: 0.8685 - val_accuracy: 0.6000 - val_mse: 0.1691 - val_mae: 0.3735\n",
      "Epoch 53/300\n",
      "4/4 [==============================] - 0s 9ms/step - loss: 0.7933 - accuracy: 0.6833 - mse: 0.1507 - mae: 0.3506 - val_loss: 0.8646 - val_accuracy: 0.6000 - val_mse: 0.1682 - val_mae: 0.3724\n",
      "Epoch 54/300\n",
      "4/4 [==============================] - 0s 9ms/step - loss: 0.7894 - accuracy: 0.6833 - mse: 0.1499 - mae: 0.3494 - val_loss: 0.8607 - val_accuracy: 0.6000 - val_mse: 0.1674 - val_mae: 0.3713\n",
      "Epoch 55/300\n",
      "4/4 [==============================] - 0s 10ms/step - loss: 0.7855 - accuracy: 0.6833 - mse: 0.1490 - mae: 0.3482 - val_loss: 0.8567 - val_accuracy: 0.6000 - val_mse: 0.1666 - val_mae: 0.3701\n",
      "Epoch 56/300\n",
      "4/4 [==============================] - 0s 10ms/step - loss: 0.7816 - accuracy: 0.6833 - mse: 0.1482 - mae: 0.3470 - val_loss: 0.8529 - val_accuracy: 0.6000 - val_mse: 0.1658 - val_mae: 0.3690\n",
      "Epoch 57/300\n",
      "4/4 [==============================] - 0s 10ms/step - loss: 0.7777 - accuracy: 0.6833 - mse: 0.1474 - mae: 0.3457 - val_loss: 0.8492 - val_accuracy: 0.6000 - val_mse: 0.1650 - val_mae: 0.3678\n",
      "Epoch 58/300\n",
      "4/4 [==============================] - 0s 9ms/step - loss: 0.7739 - accuracy: 0.6833 - mse: 0.1466 - mae: 0.3445 - val_loss: 0.8452 - val_accuracy: 0.6000 - val_mse: 0.1641 - val_mae: 0.3667\n",
      "Epoch 59/300\n",
      "4/4 [==============================] - 0s 10ms/step - loss: 0.7700 - accuracy: 0.6833 - mse: 0.1457 - mae: 0.3433 - val_loss: 0.8414 - val_accuracy: 0.6000 - val_mse: 0.1633 - val_mae: 0.3655\n",
      "Epoch 60/300\n",
      "4/4 [==============================] - 0s 10ms/step - loss: 0.7661 - accuracy: 0.6833 - mse: 0.1449 - mae: 0.3421 - val_loss: 0.8376 - val_accuracy: 0.6000 - val_mse: 0.1625 - val_mae: 0.3643\n",
      "Epoch 61/300\n",
      "4/4 [==============================] - 0s 10ms/step - loss: 0.7623 - accuracy: 0.6833 - mse: 0.1441 - mae: 0.3408 - val_loss: 0.8337 - val_accuracy: 0.6000 - val_mse: 0.1617 - val_mae: 0.3632\n",
      "Epoch 62/300\n",
      "4/4 [==============================] - 0s 9ms/step - loss: 0.7585 - accuracy: 0.6833 - mse: 0.1433 - mae: 0.3396 - val_loss: 0.8300 - val_accuracy: 0.6000 - val_mse: 0.1609 - val_mae: 0.3620\n",
      "Epoch 63/300\n",
      "4/4 [==============================] - 0s 9ms/step - loss: 0.7547 - accuracy: 0.6833 - mse: 0.1425 - mae: 0.3384 - val_loss: 0.8261 - val_accuracy: 0.6000 - val_mse: 0.1601 - val_mae: 0.3609\n",
      "Epoch 64/300\n",
      "4/4 [==============================] - 0s 12ms/step - loss: 0.7509 - accuracy: 0.6833 - mse: 0.1417 - mae: 0.3372 - val_loss: 0.8223 - val_accuracy: 0.6000 - val_mse: 0.1593 - val_mae: 0.3597\n",
      "Epoch 65/300\n",
      "4/4 [==============================] - 0s 11ms/step - loss: 0.7472 - accuracy: 0.6833 - mse: 0.1409 - mae: 0.3360 - val_loss: 0.8185 - val_accuracy: 0.6000 - val_mse: 0.1585 - val_mae: 0.3585\n",
      "Epoch 66/300\n",
      "4/4 [==============================] - 0s 11ms/step - loss: 0.7434 - accuracy: 0.6833 - mse: 0.1401 - mae: 0.3347 - val_loss: 0.8149 - val_accuracy: 0.6000 - val_mse: 0.1578 - val_mae: 0.3574\n",
      "Epoch 67/300\n",
      "4/4 [==============================] - 0s 10ms/step - loss: 0.7396 - accuracy: 0.6833 - mse: 0.1393 - mae: 0.3334 - val_loss: 0.8113 - val_accuracy: 0.6000 - val_mse: 0.1570 - val_mae: 0.3562\n",
      "Epoch 68/300\n",
      "4/4 [==============================] - 0s 9ms/step - loss: 0.7359 - accuracy: 0.6833 - mse: 0.1385 - mae: 0.3322 - val_loss: 0.8076 - val_accuracy: 0.6000 - val_mse: 0.1563 - val_mae: 0.3550\n",
      "Epoch 69/300\n",
      "4/4 [==============================] - 0s 8ms/step - loss: 0.7323 - accuracy: 0.6833 - mse: 0.1378 - mae: 0.3310 - val_loss: 0.8038 - val_accuracy: 0.6000 - val_mse: 0.1554 - val_mae: 0.3539\n",
      "Epoch 70/300\n",
      "4/4 [==============================] - 0s 10ms/step - loss: 0.7285 - accuracy: 0.6833 - mse: 0.1370 - mae: 0.3297 - val_loss: 0.8001 - val_accuracy: 0.6000 - val_mse: 0.1547 - val_mae: 0.3527\n",
      "Epoch 71/300\n",
      "4/4 [==============================] - 0s 9ms/step - loss: 0.7248 - accuracy: 0.6833 - mse: 0.1362 - mae: 0.3285 - val_loss: 0.7966 - val_accuracy: 0.6000 - val_mse: 0.1540 - val_mae: 0.3515\n",
      "Epoch 72/300\n",
      "4/4 [==============================] - 0s 10ms/step - loss: 0.7212 - accuracy: 0.6833 - mse: 0.1354 - mae: 0.3272 - val_loss: 0.7929 - val_accuracy: 0.6000 - val_mse: 0.1531 - val_mae: 0.3503\n",
      "Epoch 73/300\n",
      "4/4 [==============================] - 0s 11ms/step - loss: 0.7174 - accuracy: 0.6833 - mse: 0.1346 - mae: 0.3259 - val_loss: 0.7893 - val_accuracy: 0.6000 - val_mse: 0.1524 - val_mae: 0.3492\n",
      "Epoch 74/300\n",
      "4/4 [==============================] - 0s 10ms/step - loss: 0.7139 - accuracy: 0.6833 - mse: 0.1339 - mae: 0.3247 - val_loss: 0.7855 - val_accuracy: 0.6000 - val_mse: 0.1515 - val_mae: 0.3480\n",
      "Epoch 75/300\n",
      "4/4 [==============================] - 0s 10ms/step - loss: 0.7102 - accuracy: 0.6833 - mse: 0.1331 - mae: 0.3235 - val_loss: 0.7818 - val_accuracy: 0.6000 - val_mse: 0.1507 - val_mae: 0.3468\n",
      "Epoch 76/300\n",
      "4/4 [==============================] - 0s 10ms/step - loss: 0.7066 - accuracy: 0.6833 - mse: 0.1323 - mae: 0.3222 - val_loss: 0.7783 - val_accuracy: 0.6000 - val_mse: 0.1500 - val_mae: 0.3456\n",
      "Epoch 77/300\n",
      "4/4 [==============================] - 0s 9ms/step - loss: 0.7030 - accuracy: 0.6833 - mse: 0.1315 - mae: 0.3210 - val_loss: 0.7748 - val_accuracy: 0.6000 - val_mse: 0.1493 - val_mae: 0.3444\n",
      "Epoch 78/300\n",
      "4/4 [==============================] - 0s 9ms/step - loss: 0.6994 - accuracy: 0.6833 - mse: 0.1308 - mae: 0.3197 - val_loss: 0.7712 - val_accuracy: 0.6000 - val_mse: 0.1485 - val_mae: 0.3432\n",
      "Epoch 79/300\n",
      "4/4 [==============================] - 0s 9ms/step - loss: 0.6962 - accuracy: 0.6833 - mse: 0.1301 - mae: 0.3187 - val_loss: 0.7673 - val_accuracy: 0.6000 - val_mse: 0.1476 - val_mae: 0.3421\n",
      "Epoch 80/300\n",
      "4/4 [==============================] - 0s 9ms/step - loss: 0.6924 - accuracy: 0.6833 - mse: 0.1293 - mae: 0.3174 - val_loss: 0.7639 - val_accuracy: 0.6000 - val_mse: 0.1469 - val_mae: 0.3409\n",
      "Epoch 81/300\n"
     ]
    },
    {
     "name": "stdout",
     "output_type": "stream",
     "text": [
      "4/4 [==============================] - 0s 9ms/step - loss: 0.6889 - accuracy: 0.6833 - mse: 0.1285 - mae: 0.3161 - val_loss: 0.7605 - val_accuracy: 0.6000 - val_mse: 0.1462 - val_mae: 0.3397\n",
      "Epoch 82/300\n",
      "4/4 [==============================] - 0s 9ms/step - loss: 0.6856 - accuracy: 0.6833 - mse: 0.1278 - mae: 0.3149 - val_loss: 0.7570 - val_accuracy: 0.6000 - val_mse: 0.1454 - val_mae: 0.3385\n",
      "Epoch 83/300\n",
      "4/4 [==============================] - 0s 9ms/step - loss: 0.6820 - accuracy: 0.6833 - mse: 0.1270 - mae: 0.3136 - val_loss: 0.7536 - val_accuracy: 0.6000 - val_mse: 0.1447 - val_mae: 0.3374\n",
      "Epoch 84/300\n",
      "4/4 [==============================] - 0s 10ms/step - loss: 0.6787 - accuracy: 0.6833 - mse: 0.1263 - mae: 0.3124 - val_loss: 0.7503 - val_accuracy: 0.6000 - val_mse: 0.1440 - val_mae: 0.3362\n",
      "Epoch 85/300\n",
      "4/4 [==============================] - 0s 10ms/step - loss: 0.6752 - accuracy: 0.6833 - mse: 0.1256 - mae: 0.3112 - val_loss: 0.7470 - val_accuracy: 0.6000 - val_mse: 0.1434 - val_mae: 0.3351\n",
      "Epoch 86/300\n",
      "4/4 [==============================] - 0s 10ms/step - loss: 0.6719 - accuracy: 0.6833 - mse: 0.1249 - mae: 0.3099 - val_loss: 0.7436 - val_accuracy: 0.6000 - val_mse: 0.1427 - val_mae: 0.3339\n",
      "Epoch 87/300\n",
      "4/4 [==============================] - 0s 9ms/step - loss: 0.6686 - accuracy: 0.6833 - mse: 0.1242 - mae: 0.3088 - val_loss: 0.7401 - val_accuracy: 0.6000 - val_mse: 0.1419 - val_mae: 0.3328\n",
      "Epoch 88/300\n",
      "4/4 [==============================] - 0s 11ms/step - loss: 0.6653 - accuracy: 0.6833 - mse: 0.1235 - mae: 0.3077 - val_loss: 0.7365 - val_accuracy: 0.6000 - val_mse: 0.1411 - val_mae: 0.3316\n",
      "Epoch 89/300\n",
      "4/4 [==============================] - 0s 9ms/step - loss: 0.6619 - accuracy: 0.6833 - mse: 0.1228 - mae: 0.3065 - val_loss: 0.7333 - val_accuracy: 0.6000 - val_mse: 0.1405 - val_mae: 0.3305\n",
      "Epoch 90/300\n",
      "4/4 [==============================] - 0s 9ms/step - loss: 0.6587 - accuracy: 0.6833 - mse: 0.1222 - mae: 0.3053 - val_loss: 0.7300 - val_accuracy: 0.6000 - val_mse: 0.1398 - val_mae: 0.3294\n",
      "Epoch 91/300\n",
      "4/4 [==============================] - 0s 10ms/step - loss: 0.6553 - accuracy: 0.6833 - mse: 0.1215 - mae: 0.3041 - val_loss: 0.7265 - val_accuracy: 0.6000 - val_mse: 0.1391 - val_mae: 0.3283\n",
      "Epoch 92/300\n",
      "4/4 [==============================] - 0s 10ms/step - loss: 0.6522 - accuracy: 0.6833 - mse: 0.1208 - mae: 0.3031 - val_loss: 0.7230 - val_accuracy: 0.6000 - val_mse: 0.1383 - val_mae: 0.3272\n",
      "Epoch 93/300\n",
      "4/4 [==============================] - 0s 10ms/step - loss: 0.6489 - accuracy: 0.6833 - mse: 0.1201 - mae: 0.3020 - val_loss: 0.7196 - val_accuracy: 0.6000 - val_mse: 0.1376 - val_mae: 0.3261\n",
      "Epoch 94/300\n",
      "4/4 [==============================] - 0s 9ms/step - loss: 0.6457 - accuracy: 0.6833 - mse: 0.1195 - mae: 0.3008 - val_loss: 0.7163 - val_accuracy: 0.6000 - val_mse: 0.1369 - val_mae: 0.3250\n",
      "Epoch 95/300\n",
      "4/4 [==============================] - 0s 9ms/step - loss: 0.6426 - accuracy: 0.6833 - mse: 0.1188 - mae: 0.2998 - val_loss: 0.7132 - val_accuracy: 0.6000 - val_mse: 0.1362 - val_mae: 0.3238\n",
      "Epoch 96/300\n",
      "4/4 [==============================] - 0s 9ms/step - loss: 0.6394 - accuracy: 0.6833 - mse: 0.1182 - mae: 0.2985 - val_loss: 0.7101 - val_accuracy: 0.6000 - val_mse: 0.1356 - val_mae: 0.3227\n",
      "Epoch 97/300\n",
      "4/4 [==============================] - 0s 10ms/step - loss: 0.6362 - accuracy: 0.6833 - mse: 0.1175 - mae: 0.2973 - val_loss: 0.7069 - val_accuracy: 0.6000 - val_mse: 0.1350 - val_mae: 0.3216\n",
      "Epoch 98/300\n",
      "4/4 [==============================] - 0s 9ms/step - loss: 0.6331 - accuracy: 0.6917 - mse: 0.1169 - mae: 0.2962 - val_loss: 0.7037 - val_accuracy: 0.6000 - val_mse: 0.1343 - val_mae: 0.3205\n",
      "Epoch 99/300\n",
      "4/4 [==============================] - 0s 9ms/step - loss: 0.6301 - accuracy: 0.6917 - mse: 0.1163 - mae: 0.2951 - val_loss: 0.7004 - val_accuracy: 0.6000 - val_mse: 0.1336 - val_mae: 0.3195\n",
      "Epoch 100/300\n",
      "4/4 [==============================] - 0s 9ms/step - loss: 0.6270 - accuracy: 0.6917 - mse: 0.1157 - mae: 0.2940 - val_loss: 0.6974 - val_accuracy: 0.6000 - val_mse: 0.1330 - val_mae: 0.3183\n",
      "Epoch 101/300\n",
      "4/4 [==============================] - 0s 10ms/step - loss: 0.6240 - accuracy: 0.6917 - mse: 0.1150 - mae: 0.2928 - val_loss: 0.6941 - val_accuracy: 0.6000 - val_mse: 0.1323 - val_mae: 0.3173\n",
      "Epoch 102/300\n",
      "4/4 [==============================] - 0s 11ms/step - loss: 0.6210 - accuracy: 0.6917 - mse: 0.1144 - mae: 0.2918 - val_loss: 0.6910 - val_accuracy: 0.6000 - val_mse: 0.1317 - val_mae: 0.3162\n",
      "Epoch 103/300\n",
      "4/4 [==============================] - 0s 10ms/step - loss: 0.6180 - accuracy: 0.6917 - mse: 0.1138 - mae: 0.2907 - val_loss: 0.6879 - val_accuracy: 0.6000 - val_mse: 0.1311 - val_mae: 0.3151\n",
      "Epoch 104/300\n",
      "4/4 [==============================] - 0s 10ms/step - loss: 0.6150 - accuracy: 0.6917 - mse: 0.1132 - mae: 0.2896 - val_loss: 0.6848 - val_accuracy: 0.6000 - val_mse: 0.1305 - val_mae: 0.3140\n",
      "Epoch 105/300\n",
      "4/4 [==============================] - 0s 9ms/step - loss: 0.6121 - accuracy: 0.6917 - mse: 0.1127 - mae: 0.2885 - val_loss: 0.6818 - val_accuracy: 0.6000 - val_mse: 0.1299 - val_mae: 0.3130\n",
      "Epoch 106/300\n",
      "4/4 [==============================] - 0s 9ms/step - loss: 0.6093 - accuracy: 0.6917 - mse: 0.1121 - mae: 0.2875 - val_loss: 0.6788 - val_accuracy: 0.6000 - val_mse: 0.1293 - val_mae: 0.3119\n",
      "Epoch 107/300\n",
      "4/4 [==============================] - 0s 9ms/step - loss: 0.6063 - accuracy: 0.6917 - mse: 0.1115 - mae: 0.2864 - val_loss: 0.6757 - val_accuracy: 0.6000 - val_mse: 0.1286 - val_mae: 0.3109\n",
      "Epoch 108/300\n",
      "4/4 [==============================] - 0s 9ms/step - loss: 0.6035 - accuracy: 0.6917 - mse: 0.1110 - mae: 0.2854 - val_loss: 0.6727 - val_accuracy: 0.6000 - val_mse: 0.1280 - val_mae: 0.3099\n",
      "Epoch 109/300\n",
      "4/4 [==============================] - 0s 10ms/step - loss: 0.6007 - accuracy: 0.6917 - mse: 0.1104 - mae: 0.2844 - val_loss: 0.6698 - val_accuracy: 0.6000 - val_mse: 0.1275 - val_mae: 0.3088\n",
      "Epoch 110/300\n",
      "4/4 [==============================] - 0s 9ms/step - loss: 0.5979 - accuracy: 0.6917 - mse: 0.1099 - mae: 0.2832 - val_loss: 0.6670 - val_accuracy: 0.6000 - val_mse: 0.1269 - val_mae: 0.3078\n",
      "Epoch 111/300\n",
      "4/4 [==============================] - 0s 10ms/step - loss: 0.5951 - accuracy: 0.6917 - mse: 0.1093 - mae: 0.2822 - val_loss: 0.6642 - val_accuracy: 0.6000 - val_mse: 0.1263 - val_mae: 0.3068\n",
      "Epoch 112/300\n",
      "4/4 [==============================] - 0s 10ms/step - loss: 0.5923 - accuracy: 0.6917 - mse: 0.1088 - mae: 0.2811 - val_loss: 0.6613 - val_accuracy: 0.6000 - val_mse: 0.1258 - val_mae: 0.3057\n",
      "Epoch 113/300\n",
      "4/4 [==============================] - 0s 10ms/step - loss: 0.5896 - accuracy: 0.6917 - mse: 0.1083 - mae: 0.2801 - val_loss: 0.6584 - val_accuracy: 0.6000 - val_mse: 0.1252 - val_mae: 0.3047\n",
      "Epoch 114/300\n",
      "4/4 [==============================] - 0s 9ms/step - loss: 0.5870 - accuracy: 0.7000 - mse: 0.1077 - mae: 0.2791 - val_loss: 0.6555 - val_accuracy: 0.6000 - val_mse: 0.1246 - val_mae: 0.3037\n",
      "Epoch 115/300\n",
      "4/4 [==============================] - 0s 10ms/step - loss: 0.5842 - accuracy: 0.7000 - mse: 0.1072 - mae: 0.2781 - val_loss: 0.6527 - val_accuracy: 0.6000 - val_mse: 0.1240 - val_mae: 0.3027\n",
      "Epoch 116/300\n",
      "4/4 [==============================] - 0s 9ms/step - loss: 0.5816 - accuracy: 0.7000 - mse: 0.1067 - mae: 0.2771 - val_loss: 0.6499 - val_accuracy: 0.6000 - val_mse: 0.1235 - val_mae: 0.3017\n",
      "Epoch 117/300\n",
      "4/4 [==============================] - 0s 9ms/step - loss: 0.5789 - accuracy: 0.7000 - mse: 0.1061 - mae: 0.2760 - val_loss: 0.6472 - val_accuracy: 0.6000 - val_mse: 0.1229 - val_mae: 0.3007\n",
      "Epoch 118/300\n",
      "4/4 [==============================] - 0s 10ms/step - loss: 0.5763 - accuracy: 0.7000 - mse: 0.1057 - mae: 0.2750 - val_loss: 0.6446 - val_accuracy: 0.6000 - val_mse: 0.1225 - val_mae: 0.2997\n",
      "Epoch 119/300\n",
      "4/4 [==============================] - 0s 9ms/step - loss: 0.5738 - accuracy: 0.7000 - mse: 0.1052 - mae: 0.2739 - val_loss: 0.6420 - val_accuracy: 0.6000 - val_mse: 0.1220 - val_mae: 0.2987\n",
      "Epoch 120/300\n",
      "4/4 [==============================] - 0s 10ms/step - loss: 0.5712 - accuracy: 0.7000 - mse: 0.1047 - mae: 0.2729 - val_loss: 0.6393 - val_accuracy: 0.6000 - val_mse: 0.1214 - val_mae: 0.2977\n",
      "Epoch 121/300\n"
     ]
    },
    {
     "name": "stdout",
     "output_type": "stream",
     "text": [
      "4/4 [==============================] - 0s 9ms/step - loss: 0.5686 - accuracy: 0.7083 - mse: 0.1042 - mae: 0.2719 - val_loss: 0.6366 - val_accuracy: 0.6000 - val_mse: 0.1209 - val_mae: 0.2968\n",
      "Epoch 122/300\n",
      "4/4 [==============================] - 0s 9ms/step - loss: 0.5661 - accuracy: 0.7083 - mse: 0.1037 - mae: 0.2710 - val_loss: 0.6339 - val_accuracy: 0.6000 - val_mse: 0.1204 - val_mae: 0.2958\n",
      "Epoch 123/300\n",
      "4/4 [==============================] - 0s 11ms/step - loss: 0.5636 - accuracy: 0.7083 - mse: 0.1032 - mae: 0.2701 - val_loss: 0.6312 - val_accuracy: 0.6000 - val_mse: 0.1198 - val_mae: 0.2949\n",
      "Epoch 124/300\n",
      "4/4 [==============================] - 0s 10ms/step - loss: 0.5611 - accuracy: 0.7083 - mse: 0.1027 - mae: 0.2691 - val_loss: 0.6286 - val_accuracy: 0.6000 - val_mse: 0.1193 - val_mae: 0.2939\n",
      "Epoch 125/300\n",
      "4/4 [==============================] - 0s 10ms/step - loss: 0.5586 - accuracy: 0.7083 - mse: 0.1023 - mae: 0.2681 - val_loss: 0.6259 - val_accuracy: 0.6000 - val_mse: 0.1188 - val_mae: 0.2929\n",
      "Epoch 126/300\n",
      "4/4 [==============================] - 0s 10ms/step - loss: 0.5562 - accuracy: 0.7083 - mse: 0.1018 - mae: 0.2672 - val_loss: 0.6235 - val_accuracy: 0.6000 - val_mse: 0.1183 - val_mae: 0.2920\n",
      "Epoch 127/300\n",
      "4/4 [==============================] - 0s 9ms/step - loss: 0.5538 - accuracy: 0.7083 - mse: 0.1014 - mae: 0.2662 - val_loss: 0.6210 - val_accuracy: 0.6000 - val_mse: 0.1178 - val_mae: 0.2910\n",
      "Epoch 128/300\n",
      "4/4 [==============================] - 0s 9ms/step - loss: 0.5514 - accuracy: 0.7083 - mse: 0.1009 - mae: 0.2652 - val_loss: 0.6183 - val_accuracy: 0.6000 - val_mse: 0.1172 - val_mae: 0.2901\n",
      "Epoch 129/300\n",
      "4/4 [==============================] - 0s 10ms/step - loss: 0.5490 - accuracy: 0.7083 - mse: 0.1004 - mae: 0.2644 - val_loss: 0.6158 - val_accuracy: 0.6000 - val_mse: 0.1167 - val_mae: 0.2892\n",
      "Epoch 130/300\n",
      "4/4 [==============================] - 0s 9ms/step - loss: 0.5467 - accuracy: 0.7083 - mse: 0.1000 - mae: 0.2635 - val_loss: 0.6130 - val_accuracy: 0.6000 - val_mse: 0.1161 - val_mae: 0.2883\n",
      "Epoch 131/300\n",
      "4/4 [==============================] - 0s 10ms/step - loss: 0.5444 - accuracy: 0.7083 - mse: 0.0995 - mae: 0.2627 - val_loss: 0.6103 - val_accuracy: 0.6000 - val_mse: 0.1156 - val_mae: 0.2874\n",
      "Epoch 132/300\n",
      "4/4 [==============================] - 0s 10ms/step - loss: 0.5419 - accuracy: 0.7083 - mse: 0.0990 - mae: 0.2618 - val_loss: 0.6078 - val_accuracy: 0.6333 - val_mse: 0.1151 - val_mae: 0.2865\n",
      "Epoch 133/300\n",
      "4/4 [==============================] - 0s 10ms/step - loss: 0.5397 - accuracy: 0.7083 - mse: 0.0986 - mae: 0.2610 - val_loss: 0.6053 - val_accuracy: 0.6333 - val_mse: 0.1146 - val_mae: 0.2856\n",
      "Epoch 134/300\n",
      "4/4 [==============================] - 0s 10ms/step - loss: 0.5374 - accuracy: 0.7083 - mse: 0.0982 - mae: 0.2600 - val_loss: 0.6030 - val_accuracy: 0.6333 - val_mse: 0.1142 - val_mae: 0.2847\n",
      "Epoch 135/300\n",
      "4/4 [==============================] - 0s 11ms/step - loss: 0.5351 - accuracy: 0.7167 - mse: 0.0978 - mae: 0.2592 - val_loss: 0.6005 - val_accuracy: 0.6333 - val_mse: 0.1137 - val_mae: 0.2838\n",
      "Epoch 136/300\n",
      "4/4 [==============================] - 0s 10ms/step - loss: 0.5329 - accuracy: 0.7167 - mse: 0.0974 - mae: 0.2583 - val_loss: 0.5982 - val_accuracy: 0.6333 - val_mse: 0.1133 - val_mae: 0.2830\n",
      "Epoch 137/300\n",
      "4/4 [==============================] - 0s 10ms/step - loss: 0.5307 - accuracy: 0.7167 - mse: 0.0970 - mae: 0.2574 - val_loss: 0.5957 - val_accuracy: 0.6333 - val_mse: 0.1128 - val_mae: 0.2821\n",
      "Epoch 138/300\n",
      "4/4 [==============================] - 0s 9ms/step - loss: 0.5285 - accuracy: 0.7250 - mse: 0.0965 - mae: 0.2566 - val_loss: 0.5934 - val_accuracy: 0.6333 - val_mse: 0.1123 - val_mae: 0.2812\n",
      "Epoch 139/300\n",
      "4/4 [==============================] - 0s 9ms/step - loss: 0.5263 - accuracy: 0.7333 - mse: 0.0961 - mae: 0.2557 - val_loss: 0.5910 - val_accuracy: 0.6333 - val_mse: 0.1119 - val_mae: 0.2803\n",
      "Epoch 140/300\n",
      "4/4 [==============================] - 0s 9ms/step - loss: 0.5242 - accuracy: 0.7333 - mse: 0.0957 - mae: 0.2550 - val_loss: 0.5885 - val_accuracy: 0.6333 - val_mse: 0.1113 - val_mae: 0.2795\n",
      "Epoch 141/300\n",
      "4/4 [==============================] - 0s 9ms/step - loss: 0.5221 - accuracy: 0.7417 - mse: 0.0953 - mae: 0.2541 - val_loss: 0.5862 - val_accuracy: 0.6333 - val_mse: 0.1109 - val_mae: 0.2786\n",
      "Epoch 142/300\n",
      "4/4 [==============================] - 0s 10ms/step - loss: 0.5199 - accuracy: 0.7417 - mse: 0.0949 - mae: 0.2533 - val_loss: 0.5840 - val_accuracy: 0.6333 - val_mse: 0.1105 - val_mae: 0.2778\n",
      "Epoch 143/300\n",
      "4/4 [==============================] - 0s 9ms/step - loss: 0.5178 - accuracy: 0.7417 - mse: 0.0945 - mae: 0.2524 - val_loss: 0.5818 - val_accuracy: 0.6333 - val_mse: 0.1101 - val_mae: 0.2770\n",
      "Epoch 144/300\n",
      "4/4 [==============================] - 0s 9ms/step - loss: 0.5158 - accuracy: 0.7417 - mse: 0.0942 - mae: 0.2516 - val_loss: 0.5797 - val_accuracy: 0.6333 - val_mse: 0.1097 - val_mae: 0.2761\n",
      "Epoch 145/300\n",
      "4/4 [==============================] - 0s 9ms/step - loss: 0.5137 - accuracy: 0.7417 - mse: 0.0938 - mae: 0.2508 - val_loss: 0.5773 - val_accuracy: 0.6333 - val_mse: 0.1092 - val_mae: 0.2753\n",
      "Epoch 146/300\n",
      "4/4 [==============================] - 0s 9ms/step - loss: 0.5116 - accuracy: 0.7417 - mse: 0.0934 - mae: 0.2500 - val_loss: 0.5751 - val_accuracy: 0.6333 - val_mse: 0.1088 - val_mae: 0.2745\n",
      "Epoch 147/300\n",
      "4/4 [==============================] - 0s 7ms/step - loss: 0.5096 - accuracy: 0.7417 - mse: 0.0930 - mae: 0.2492 - val_loss: 0.5729 - val_accuracy: 0.6333 - val_mse: 0.1083 - val_mae: 0.2736\n",
      "Epoch 148/300\n",
      "4/4 [==============================] - 0s 9ms/step - loss: 0.5076 - accuracy: 0.7417 - mse: 0.0926 - mae: 0.2484 - val_loss: 0.5706 - val_accuracy: 0.6667 - val_mse: 0.1078 - val_mae: 0.2728\n",
      "Epoch 149/300\n",
      "4/4 [==============================] - 0s 10ms/step - loss: 0.5056 - accuracy: 0.7417 - mse: 0.0922 - mae: 0.2476 - val_loss: 0.5684 - val_accuracy: 0.6667 - val_mse: 0.1074 - val_mae: 0.2720\n",
      "Epoch 150/300\n",
      "4/4 [==============================] - 0s 9ms/step - loss: 0.5036 - accuracy: 0.7500 - mse: 0.0919 - mae: 0.2468 - val_loss: 0.5663 - val_accuracy: 0.6667 - val_mse: 0.1070 - val_mae: 0.2712\n",
      "Epoch 151/300\n",
      "4/4 [==============================] - 0s 7ms/step - loss: 0.5018 - accuracy: 0.7500 - mse: 0.0915 - mae: 0.2461 - val_loss: 0.5640 - val_accuracy: 0.6667 - val_mse: 0.1065 - val_mae: 0.2704\n",
      "Epoch 152/300\n",
      "4/4 [==============================] - 0s 9ms/step - loss: 0.4998 - accuracy: 0.7500 - mse: 0.0911 - mae: 0.2453 - val_loss: 0.5619 - val_accuracy: 0.6667 - val_mse: 0.1061 - val_mae: 0.2696\n",
      "Epoch 153/300\n",
      "4/4 [==============================] - 0s 9ms/step - loss: 0.4979 - accuracy: 0.7583 - mse: 0.0908 - mae: 0.2446 - val_loss: 0.5596 - val_accuracy: 0.6667 - val_mse: 0.1056 - val_mae: 0.2688\n",
      "Epoch 154/300\n",
      "4/4 [==============================] - 0s 10ms/step - loss: 0.4960 - accuracy: 0.7583 - mse: 0.0904 - mae: 0.2438 - val_loss: 0.5575 - val_accuracy: 0.6667 - val_mse: 0.1052 - val_mae: 0.2680\n",
      "Epoch 155/300\n",
      "4/4 [==============================] - 0s 9ms/step - loss: 0.4940 - accuracy: 0.7583 - mse: 0.0900 - mae: 0.2430 - val_loss: 0.5555 - val_accuracy: 0.7000 - val_mse: 0.1048 - val_mae: 0.2672\n",
      "Epoch 156/300\n",
      "4/4 [==============================] - 0s 7ms/step - loss: 0.4921 - accuracy: 0.7667 - mse: 0.0897 - mae: 0.2423 - val_loss: 0.5535 - val_accuracy: 0.7000 - val_mse: 0.1045 - val_mae: 0.2664\n",
      "Epoch 157/300\n",
      "4/4 [==============================] - 0s 8ms/step - loss: 0.4903 - accuracy: 0.7667 - mse: 0.0894 - mae: 0.2415 - val_loss: 0.5516 - val_accuracy: 0.7000 - val_mse: 0.1041 - val_mae: 0.2657\n",
      "Epoch 158/300\n",
      "4/4 [==============================] - 0s 9ms/step - loss: 0.4885 - accuracy: 0.7750 - mse: 0.0891 - mae: 0.2408 - val_loss: 0.5496 - val_accuracy: 0.7000 - val_mse: 0.1038 - val_mae: 0.2649\n",
      "Epoch 159/300\n",
      "4/4 [==============================] - 0s 10ms/step - loss: 0.4867 - accuracy: 0.7750 - mse: 0.0887 - mae: 0.2400 - val_loss: 0.5477 - val_accuracy: 0.7000 - val_mse: 0.1034 - val_mae: 0.2642\n",
      "Epoch 160/300\n",
      "4/4 [==============================] - 0s 9ms/step - loss: 0.4848 - accuracy: 0.7750 - mse: 0.0884 - mae: 0.2392 - val_loss: 0.5457 - val_accuracy: 0.7333 - val_mse: 0.1030 - val_mae: 0.2634\n"
     ]
    },
    {
     "name": "stdout",
     "output_type": "stream",
     "text": [
      "Epoch 161/300\n",
      "4/4 [==============================] - 0s 9ms/step - loss: 0.4831 - accuracy: 0.7833 - mse: 0.0881 - mae: 0.2386 - val_loss: 0.5435 - val_accuracy: 0.7333 - val_mse: 0.1026 - val_mae: 0.2627\n",
      "Epoch 162/300\n",
      "4/4 [==============================] - 0s 9ms/step - loss: 0.4814 - accuracy: 0.7917 - mse: 0.0877 - mae: 0.2380 - val_loss: 0.5415 - val_accuracy: 0.7333 - val_mse: 0.1021 - val_mae: 0.2619\n",
      "Epoch 163/300\n",
      "4/4 [==============================] - 0s 9ms/step - loss: 0.4795 - accuracy: 0.8000 - mse: 0.0874 - mae: 0.2372 - val_loss: 0.5397 - val_accuracy: 0.7333 - val_mse: 0.1018 - val_mae: 0.2612\n",
      "Epoch 164/300\n",
      "4/4 [==============================] - 0s 9ms/step - loss: 0.4777 - accuracy: 0.8083 - mse: 0.0870 - mae: 0.2364 - val_loss: 0.5377 - val_accuracy: 0.7333 - val_mse: 0.1014 - val_mae: 0.2604\n",
      "Epoch 165/300\n",
      "4/4 [==============================] - 0s 10ms/step - loss: 0.4760 - accuracy: 0.8083 - mse: 0.0867 - mae: 0.2357 - val_loss: 0.5358 - val_accuracy: 0.7667 - val_mse: 0.1010 - val_mae: 0.2597\n",
      "Epoch 166/300\n",
      "4/4 [==============================] - 0s 10ms/step - loss: 0.4743 - accuracy: 0.8167 - mse: 0.0864 - mae: 0.2350 - val_loss: 0.5339 - val_accuracy: 0.7667 - val_mse: 0.1006 - val_mae: 0.2590\n",
      "Epoch 167/300\n",
      "4/4 [==============================] - 0s 7ms/step - loss: 0.4726 - accuracy: 0.8167 - mse: 0.0861 - mae: 0.2343 - val_loss: 0.5321 - val_accuracy: 0.8000 - val_mse: 0.1003 - val_mae: 0.2582\n",
      "Epoch 168/300\n",
      "4/4 [==============================] - 0s 9ms/step - loss: 0.4709 - accuracy: 0.8167 - mse: 0.0858 - mae: 0.2336 - val_loss: 0.5302 - val_accuracy: 0.8000 - val_mse: 0.0999 - val_mae: 0.2575\n",
      "Epoch 169/300\n",
      "4/4 [==============================] - 0s 9ms/step - loss: 0.4692 - accuracy: 0.8167 - mse: 0.0855 - mae: 0.2329 - val_loss: 0.5283 - val_accuracy: 0.8000 - val_mse: 0.0996 - val_mae: 0.2568\n",
      "Epoch 170/300\n",
      "4/4 [==============================] - 0s 10ms/step - loss: 0.4675 - accuracy: 0.8167 - mse: 0.0852 - mae: 0.2323 - val_loss: 0.5264 - val_accuracy: 0.8000 - val_mse: 0.0992 - val_mae: 0.2561\n",
      "Epoch 171/300\n",
      "4/4 [==============================] - 0s 10ms/step - loss: 0.4659 - accuracy: 0.8167 - mse: 0.0848 - mae: 0.2316 - val_loss: 0.5247 - val_accuracy: 0.8000 - val_mse: 0.0989 - val_mae: 0.2554\n",
      "Epoch 172/300\n",
      "4/4 [==============================] - 0s 10ms/step - loss: 0.4643 - accuracy: 0.8167 - mse: 0.0846 - mae: 0.2309 - val_loss: 0.5227 - val_accuracy: 0.8333 - val_mse: 0.0984 - val_mae: 0.2547\n",
      "Epoch 173/300\n",
      "4/4 [==============================] - 0s 10ms/step - loss: 0.4626 - accuracy: 0.8167 - mse: 0.0842 - mae: 0.2303 - val_loss: 0.5210 - val_accuracy: 0.8333 - val_mse: 0.0982 - val_mae: 0.2540\n",
      "Epoch 174/300\n",
      "4/4 [==============================] - 0s 10ms/step - loss: 0.4609 - accuracy: 0.8167 - mse: 0.0839 - mae: 0.2296 - val_loss: 0.5193 - val_accuracy: 0.8333 - val_mse: 0.0978 - val_mae: 0.2533\n",
      "Epoch 175/300\n",
      "4/4 [==============================] - 0s 9ms/step - loss: 0.4594 - accuracy: 0.8167 - mse: 0.0836 - mae: 0.2289 - val_loss: 0.5173 - val_accuracy: 0.8333 - val_mse: 0.0974 - val_mae: 0.2526\n",
      "Epoch 176/300\n",
      "4/4 [==============================] - 0s 9ms/step - loss: 0.4577 - accuracy: 0.8250 - mse: 0.0833 - mae: 0.2283 - val_loss: 0.5155 - val_accuracy: 0.8333 - val_mse: 0.0970 - val_mae: 0.2520\n",
      "Epoch 177/300\n",
      "4/4 [==============================] - 0s 9ms/step - loss: 0.4561 - accuracy: 0.8250 - mse: 0.0830 - mae: 0.2276 - val_loss: 0.5138 - val_accuracy: 0.8333 - val_mse: 0.0967 - val_mae: 0.2513\n",
      "Epoch 178/300\n",
      "4/4 [==============================] - 0s 10ms/step - loss: 0.4546 - accuracy: 0.8250 - mse: 0.0827 - mae: 0.2269 - val_loss: 0.5121 - val_accuracy: 0.8333 - val_mse: 0.0963 - val_mae: 0.2506\n",
      "Epoch 179/300\n",
      "4/4 [==============================] - 0s 10ms/step - loss: 0.4530 - accuracy: 0.8333 - mse: 0.0824 - mae: 0.2263 - val_loss: 0.5103 - val_accuracy: 0.8333 - val_mse: 0.0960 - val_mae: 0.2499\n",
      "Epoch 180/300\n",
      "4/4 [==============================] - 0s 10ms/step - loss: 0.4514 - accuracy: 0.8333 - mse: 0.0821 - mae: 0.2257 - val_loss: 0.5086 - val_accuracy: 0.8667 - val_mse: 0.0957 - val_mae: 0.2493\n",
      "Epoch 181/300\n",
      "4/4 [==============================] - 0s 10ms/step - loss: 0.4499 - accuracy: 0.8333 - mse: 0.0818 - mae: 0.2250 - val_loss: 0.5068 - val_accuracy: 0.8667 - val_mse: 0.0953 - val_mae: 0.2486\n",
      "Epoch 182/300\n",
      "4/4 [==============================] - 0s 9ms/step - loss: 0.4483 - accuracy: 0.8333 - mse: 0.0815 - mae: 0.2244 - val_loss: 0.5050 - val_accuracy: 0.8667 - val_mse: 0.0949 - val_mae: 0.2479\n",
      "Epoch 183/300\n",
      "4/4 [==============================] - 0s 10ms/step - loss: 0.4469 - accuracy: 0.8333 - mse: 0.0812 - mae: 0.2239 - val_loss: 0.5031 - val_accuracy: 0.8667 - val_mse: 0.0945 - val_mae: 0.2472\n",
      "Epoch 184/300\n",
      "4/4 [==============================] - 0s 10ms/step - loss: 0.4452 - accuracy: 0.8417 - mse: 0.0809 - mae: 0.2233 - val_loss: 0.5015 - val_accuracy: 0.8667 - val_mse: 0.0942 - val_mae: 0.2466\n",
      "Epoch 185/300\n",
      "4/4 [==============================] - 0s 9ms/step - loss: 0.4437 - accuracy: 0.8500 - mse: 0.0806 - mae: 0.2226 - val_loss: 0.4998 - val_accuracy: 0.8667 - val_mse: 0.0938 - val_mae: 0.2460\n",
      "Epoch 186/300\n",
      "4/4 [==============================] - 0s 9ms/step - loss: 0.4423 - accuracy: 0.8500 - mse: 0.0804 - mae: 0.2220 - val_loss: 0.4981 - val_accuracy: 0.8667 - val_mse: 0.0935 - val_mae: 0.2453\n",
      "Epoch 187/300\n",
      "4/4 [==============================] - 0s 9ms/step - loss: 0.4407 - accuracy: 0.8500 - mse: 0.0801 - mae: 0.2214 - val_loss: 0.4965 - val_accuracy: 0.8667 - val_mse: 0.0932 - val_mae: 0.2447\n",
      "Epoch 188/300\n",
      "4/4 [==============================] - 0s 9ms/step - loss: 0.4392 - accuracy: 0.8500 - mse: 0.0798 - mae: 0.2208 - val_loss: 0.4947 - val_accuracy: 0.8667 - val_mse: 0.0928 - val_mae: 0.2440\n",
      "Epoch 189/300\n",
      "4/4 [==============================] - 0s 10ms/step - loss: 0.4378 - accuracy: 0.8583 - mse: 0.0795 - mae: 0.2202 - val_loss: 0.4929 - val_accuracy: 0.8667 - val_mse: 0.0924 - val_mae: 0.2434\n",
      "Epoch 190/300\n",
      "4/4 [==============================] - 0s 10ms/step - loss: 0.4363 - accuracy: 0.8583 - mse: 0.0792 - mae: 0.2197 - val_loss: 0.4911 - val_accuracy: 0.8667 - val_mse: 0.0920 - val_mae: 0.2427\n",
      "Epoch 191/300\n",
      "4/4 [==============================] - 0s 10ms/step - loss: 0.4348 - accuracy: 0.8667 - mse: 0.0789 - mae: 0.2191 - val_loss: 0.4896 - val_accuracy: 0.8667 - val_mse: 0.0917 - val_mae: 0.2421\n",
      "Epoch 192/300\n",
      "4/4 [==============================] - 0s 10ms/step - loss: 0.4334 - accuracy: 0.8667 - mse: 0.0786 - mae: 0.2185 - val_loss: 0.4878 - val_accuracy: 0.8667 - val_mse: 0.0914 - val_mae: 0.2415\n",
      "Epoch 193/300\n",
      "4/4 [==============================] - 0s 11ms/step - loss: 0.4320 - accuracy: 0.8667 - mse: 0.0783 - mae: 0.2180 - val_loss: 0.4861 - val_accuracy: 0.8667 - val_mse: 0.0910 - val_mae: 0.2408\n",
      "Epoch 194/300\n",
      "4/4 [==============================] - 0s 10ms/step - loss: 0.4305 - accuracy: 0.8750 - mse: 0.0781 - mae: 0.2174 - val_loss: 0.4845 - val_accuracy: 0.9000 - val_mse: 0.0907 - val_mae: 0.2402\n",
      "Epoch 195/300\n",
      "4/4 [==============================] - 0s 9ms/step - loss: 0.4291 - accuracy: 0.8750 - mse: 0.0778 - mae: 0.2168 - val_loss: 0.4829 - val_accuracy: 0.9000 - val_mse: 0.0903 - val_mae: 0.2396\n",
      "Epoch 196/300\n",
      "4/4 [==============================] - 0s 10ms/step - loss: 0.4277 - accuracy: 0.8750 - mse: 0.0775 - mae: 0.2163 - val_loss: 0.4812 - val_accuracy: 0.9000 - val_mse: 0.0900 - val_mae: 0.2390\n",
      "Epoch 197/300\n",
      "4/4 [==============================] - 0s 10ms/step - loss: 0.4263 - accuracy: 0.8750 - mse: 0.0773 - mae: 0.2157 - val_loss: 0.4799 - val_accuracy: 0.9000 - val_mse: 0.0898 - val_mae: 0.2384\n",
      "Epoch 198/300\n",
      "4/4 [==============================] - 0s 10ms/step - loss: 0.4248 - accuracy: 0.8750 - mse: 0.0770 - mae: 0.2150 - val_loss: 0.4783 - val_accuracy: 0.9000 - val_mse: 0.0894 - val_mae: 0.2378\n",
      "Epoch 199/300\n",
      "4/4 [==============================] - 0s 10ms/step - loss: 0.4235 - accuracy: 0.8750 - mse: 0.0767 - mae: 0.2145 - val_loss: 0.4766 - val_accuracy: 0.9000 - val_mse: 0.0890 - val_mae: 0.2372\n",
      "Epoch 200/300\n",
      "4/4 [==============================] - 0s 10ms/step - loss: 0.4221 - accuracy: 0.8750 - mse: 0.0764 - mae: 0.2139 - val_loss: 0.4750 - val_accuracy: 0.9333 - val_mse: 0.0887 - val_mae: 0.2366\n"
     ]
    },
    {
     "name": "stdout",
     "output_type": "stream",
     "text": [
      "Epoch 201/300\n",
      "4/4 [==============================] - 0s 9ms/step - loss: 0.4207 - accuracy: 0.8833 - mse: 0.0761 - mae: 0.2134 - val_loss: 0.4733 - val_accuracy: 0.9333 - val_mse: 0.0883 - val_mae: 0.2360\n",
      "Epoch 202/300\n",
      "4/4 [==============================] - 0s 7ms/step - loss: 0.4193 - accuracy: 0.8833 - mse: 0.0758 - mae: 0.2129 - val_loss: 0.4717 - val_accuracy: 0.9333 - val_mse: 0.0879 - val_mae: 0.2353\n",
      "Epoch 203/300\n",
      "4/4 [==============================] - 0s 9ms/step - loss: 0.4179 - accuracy: 0.8833 - mse: 0.0755 - mae: 0.2123 - val_loss: 0.4702 - val_accuracy: 0.9333 - val_mse: 0.0876 - val_mae: 0.2348\n",
      "Epoch 204/300\n",
      "4/4 [==============================] - 0s 9ms/step - loss: 0.4166 - accuracy: 0.8833 - mse: 0.0753 - mae: 0.2117 - val_loss: 0.4689 - val_accuracy: 0.9333 - val_mse: 0.0874 - val_mae: 0.2342\n",
      "Epoch 205/300\n",
      "4/4 [==============================] - 0s 9ms/step - loss: 0.4152 - accuracy: 0.8833 - mse: 0.0750 - mae: 0.2111 - val_loss: 0.4674 - val_accuracy: 0.9333 - val_mse: 0.0871 - val_mae: 0.2336\n",
      "Epoch 206/300\n",
      "4/4 [==============================] - 0s 10ms/step - loss: 0.4139 - accuracy: 0.8833 - mse: 0.0748 - mae: 0.2106 - val_loss: 0.4659 - val_accuracy: 0.9333 - val_mse: 0.0868 - val_mae: 0.2330\n",
      "Epoch 207/300\n",
      "4/4 [==============================] - 0s 10ms/step - loss: 0.4126 - accuracy: 0.8833 - mse: 0.0745 - mae: 0.2100 - val_loss: 0.4646 - val_accuracy: 0.9333 - val_mse: 0.0866 - val_mae: 0.2324\n",
      "Epoch 208/300\n",
      "4/4 [==============================] - 0s 9ms/step - loss: 0.4112 - accuracy: 0.8833 - mse: 0.0742 - mae: 0.2094 - val_loss: 0.4630 - val_accuracy: 0.9333 - val_mse: 0.0862 - val_mae: 0.2319\n",
      "Epoch 209/300\n",
      "4/4 [==============================] - 0s 10ms/step - loss: 0.4099 - accuracy: 0.8917 - mse: 0.0740 - mae: 0.2089 - val_loss: 0.4613 - val_accuracy: 0.9667 - val_mse: 0.0858 - val_mae: 0.2313\n",
      "Epoch 210/300\n",
      "4/4 [==============================] - 0s 9ms/step - loss: 0.4086 - accuracy: 0.9000 - mse: 0.0737 - mae: 0.2085 - val_loss: 0.4596 - val_accuracy: 0.9667 - val_mse: 0.0854 - val_mae: 0.2307\n",
      "Epoch 211/300\n",
      "4/4 [==============================] - 0s 10ms/step - loss: 0.4072 - accuracy: 0.9000 - mse: 0.0734 - mae: 0.2080 - val_loss: 0.4581 - val_accuracy: 0.9667 - val_mse: 0.0850 - val_mae: 0.2301\n",
      "Epoch 212/300\n",
      "4/4 [==============================] - 0s 10ms/step - loss: 0.4059 - accuracy: 0.9000 - mse: 0.0731 - mae: 0.2074 - val_loss: 0.4565 - val_accuracy: 0.9667 - val_mse: 0.0847 - val_mae: 0.2295\n",
      "Epoch 213/300\n",
      "4/4 [==============================] - 0s 10ms/step - loss: 0.4046 - accuracy: 0.9000 - mse: 0.0728 - mae: 0.2069 - val_loss: 0.4550 - val_accuracy: 0.9667 - val_mse: 0.0843 - val_mae: 0.2289\n",
      "Epoch 214/300\n",
      "4/4 [==============================] - 0s 10ms/step - loss: 0.4033 - accuracy: 0.9000 - mse: 0.0725 - mae: 0.2064 - val_loss: 0.4536 - val_accuracy: 0.9667 - val_mse: 0.0840 - val_mae: 0.2284\n",
      "Epoch 215/300\n",
      "4/4 [==============================] - 0s 10ms/step - loss: 0.4020 - accuracy: 0.9000 - mse: 0.0723 - mae: 0.2058 - val_loss: 0.4523 - val_accuracy: 0.9667 - val_mse: 0.0838 - val_mae: 0.2278\n",
      "Epoch 216/300\n",
      "4/4 [==============================] - 0s 10ms/step - loss: 0.4007 - accuracy: 0.9000 - mse: 0.0720 - mae: 0.2053 - val_loss: 0.4509 - val_accuracy: 0.9667 - val_mse: 0.0835 - val_mae: 0.2272\n",
      "Epoch 217/300\n",
      "4/4 [==============================] - 0s 10ms/step - loss: 0.3995 - accuracy: 0.9000 - mse: 0.0718 - mae: 0.2047 - val_loss: 0.4496 - val_accuracy: 0.9667 - val_mse: 0.0833 - val_mae: 0.2267\n",
      "Epoch 218/300\n",
      "4/4 [==============================] - 0s 9ms/step - loss: 0.3982 - accuracy: 0.9083 - mse: 0.0716 - mae: 0.2041 - val_loss: 0.4482 - val_accuracy: 0.9667 - val_mse: 0.0830 - val_mae: 0.2261\n",
      "Epoch 219/300\n",
      "4/4 [==============================] - 0s 9ms/step - loss: 0.3970 - accuracy: 0.9167 - mse: 0.0713 - mae: 0.2037 - val_loss: 0.4465 - val_accuracy: 0.9667 - val_mse: 0.0826 - val_mae: 0.2255\n",
      "Epoch 220/300\n",
      "4/4 [==============================] - 0s 9ms/step - loss: 0.3956 - accuracy: 0.9250 - mse: 0.0710 - mae: 0.2032 - val_loss: 0.4450 - val_accuracy: 0.9667 - val_mse: 0.0822 - val_mae: 0.2250\n",
      "Epoch 221/300\n",
      "4/4 [==============================] - 0s 10ms/step - loss: 0.3944 - accuracy: 0.9250 - mse: 0.0707 - mae: 0.2027 - val_loss: 0.4435 - val_accuracy: 0.9667 - val_mse: 0.0818 - val_mae: 0.2244\n",
      "Epoch 222/300\n",
      "4/4 [==============================] - 0s 10ms/step - loss: 0.3931 - accuracy: 0.9250 - mse: 0.0704 - mae: 0.2022 - val_loss: 0.4420 - val_accuracy: 0.9667 - val_mse: 0.0815 - val_mae: 0.2238\n",
      "Epoch 223/300\n",
      "4/4 [==============================] - 0s 9ms/step - loss: 0.3919 - accuracy: 0.9250 - mse: 0.0702 - mae: 0.2017 - val_loss: 0.4406 - val_accuracy: 0.9667 - val_mse: 0.0812 - val_mae: 0.2233\n",
      "Epoch 224/300\n",
      "4/4 [==============================] - 0s 10ms/step - loss: 0.3907 - accuracy: 0.9250 - mse: 0.0699 - mae: 0.2011 - val_loss: 0.4395 - val_accuracy: 0.9667 - val_mse: 0.0810 - val_mae: 0.2227\n",
      "Epoch 225/300\n",
      "4/4 [==============================] - 0s 10ms/step - loss: 0.3894 - accuracy: 0.9250 - mse: 0.0697 - mae: 0.2005 - val_loss: 0.4381 - val_accuracy: 0.9667 - val_mse: 0.0807 - val_mae: 0.2222\n",
      "Epoch 226/300\n",
      "4/4 [==============================] - 0s 10ms/step - loss: 0.3882 - accuracy: 0.9250 - mse: 0.0694 - mae: 0.2000 - val_loss: 0.4366 - val_accuracy: 0.9667 - val_mse: 0.0804 - val_mae: 0.2216\n",
      "Epoch 227/300\n",
      "4/4 [==============================] - 0s 9ms/step - loss: 0.3869 - accuracy: 0.9250 - mse: 0.0692 - mae: 0.1995 - val_loss: 0.4353 - val_accuracy: 0.9667 - val_mse: 0.0801 - val_mae: 0.2211\n",
      "Epoch 228/300\n",
      "4/4 [==============================] - 0s 10ms/step - loss: 0.3857 - accuracy: 0.9250 - mse: 0.0689 - mae: 0.1990 - val_loss: 0.4339 - val_accuracy: 0.9667 - val_mse: 0.0798 - val_mae: 0.2205\n",
      "Epoch 229/300\n",
      "4/4 [==============================] - 0s 9ms/step - loss: 0.3845 - accuracy: 0.9250 - mse: 0.0686 - mae: 0.1985 - val_loss: 0.4324 - val_accuracy: 0.9667 - val_mse: 0.0795 - val_mae: 0.2200\n",
      "Epoch 230/300\n",
      "4/4 [==============================] - 0s 9ms/step - loss: 0.3833 - accuracy: 0.9333 - mse: 0.0684 - mae: 0.1980 - val_loss: 0.4309 - val_accuracy: 0.9667 - val_mse: 0.0791 - val_mae: 0.2194\n",
      "Epoch 231/300\n",
      "4/4 [==============================] - 0s 10ms/step - loss: 0.3821 - accuracy: 0.9417 - mse: 0.0681 - mae: 0.1975 - val_loss: 0.4296 - val_accuracy: 0.9667 - val_mse: 0.0788 - val_mae: 0.2189\n",
      "Epoch 232/300\n",
      "4/4 [==============================] - 0s 10ms/step - loss: 0.3808 - accuracy: 0.9417 - mse: 0.0678 - mae: 0.1970 - val_loss: 0.4281 - val_accuracy: 0.9667 - val_mse: 0.0785 - val_mae: 0.2183\n",
      "Epoch 233/300\n",
      "4/4 [==============================] - 0s 9ms/step - loss: 0.3796 - accuracy: 0.9417 - mse: 0.0676 - mae: 0.1966 - val_loss: 0.4267 - val_accuracy: 0.9667 - val_mse: 0.0781 - val_mae: 0.2178\n",
      "Epoch 234/300\n",
      "4/4 [==============================] - 0s 10ms/step - loss: 0.3784 - accuracy: 0.9417 - mse: 0.0673 - mae: 0.1961 - val_loss: 0.4252 - val_accuracy: 0.9667 - val_mse: 0.0777 - val_mae: 0.2172\n",
      "Epoch 235/300\n",
      "4/4 [==============================] - 0s 10ms/step - loss: 0.3772 - accuracy: 0.9500 - mse: 0.0670 - mae: 0.1956 - val_loss: 0.4239 - val_accuracy: 0.9667 - val_mse: 0.0775 - val_mae: 0.2167\n",
      "Epoch 236/300\n",
      "4/4 [==============================] - 0s 9ms/step - loss: 0.3760 - accuracy: 0.9500 - mse: 0.0668 - mae: 0.1951 - val_loss: 0.4225 - val_accuracy: 0.9667 - val_mse: 0.0771 - val_mae: 0.2161\n",
      "Epoch 237/300\n",
      "4/4 [==============================] - 0s 9ms/step - loss: 0.3749 - accuracy: 0.9500 - mse: 0.0665 - mae: 0.1947 - val_loss: 0.4210 - val_accuracy: 0.9667 - val_mse: 0.0768 - val_mae: 0.2156\n",
      "Epoch 238/300\n",
      "4/4 [==============================] - 0s 10ms/step - loss: 0.3736 - accuracy: 0.9583 - mse: 0.0662 - mae: 0.1942 - val_loss: 0.4198 - val_accuracy: 0.9667 - val_mse: 0.0765 - val_mae: 0.2151\n",
      "Epoch 239/300\n",
      "4/4 [==============================] - 0s 9ms/step - loss: 0.3725 - accuracy: 0.9583 - mse: 0.0660 - mae: 0.1936 - val_loss: 0.4186 - val_accuracy: 0.9667 - val_mse: 0.0763 - val_mae: 0.2145\n",
      "Epoch 240/300\n",
      "4/4 [==============================] - 0s 9ms/step - loss: 0.3713 - accuracy: 0.9583 - mse: 0.0658 - mae: 0.1931 - val_loss: 0.4171 - val_accuracy: 0.9667 - val_mse: 0.0760 - val_mae: 0.2140\n"
     ]
    },
    {
     "name": "stdout",
     "output_type": "stream",
     "text": [
      "Epoch 241/300\n",
      "4/4 [==============================] - 0s 10ms/step - loss: 0.3701 - accuracy: 0.9583 - mse: 0.0655 - mae: 0.1926 - val_loss: 0.4158 - val_accuracy: 0.9667 - val_mse: 0.0756 - val_mae: 0.2134\n",
      "Epoch 242/300\n",
      "4/4 [==============================] - 0s 9ms/step - loss: 0.3689 - accuracy: 0.9583 - mse: 0.0652 - mae: 0.1921 - val_loss: 0.4146 - val_accuracy: 0.9667 - val_mse: 0.0754 - val_mae: 0.2129\n",
      "Epoch 243/300\n",
      "4/4 [==============================] - 0s 10ms/step - loss: 0.3677 - accuracy: 0.9583 - mse: 0.0650 - mae: 0.1916 - val_loss: 0.4132 - val_accuracy: 0.9667 - val_mse: 0.0751 - val_mae: 0.2124\n",
      "Epoch 244/300\n",
      "4/4 [==============================] - 0s 9ms/step - loss: 0.3666 - accuracy: 0.9583 - mse: 0.0647 - mae: 0.1911 - val_loss: 0.4118 - val_accuracy: 0.9667 - val_mse: 0.0747 - val_mae: 0.2118\n",
      "Epoch 245/300\n",
      "4/4 [==============================] - 0s 9ms/step - loss: 0.3654 - accuracy: 0.9583 - mse: 0.0645 - mae: 0.1906 - val_loss: 0.4105 - val_accuracy: 0.9667 - val_mse: 0.0744 - val_mae: 0.2113\n",
      "Epoch 246/300\n",
      "4/4 [==============================] - 0s 9ms/step - loss: 0.3643 - accuracy: 0.9583 - mse: 0.0642 - mae: 0.1902 - val_loss: 0.4091 - val_accuracy: 0.9667 - val_mse: 0.0741 - val_mae: 0.2108\n",
      "Epoch 247/300\n",
      "4/4 [==============================] - 0s 9ms/step - loss: 0.3631 - accuracy: 0.9583 - mse: 0.0640 - mae: 0.1897 - val_loss: 0.4080 - val_accuracy: 0.9667 - val_mse: 0.0739 - val_mae: 0.2102\n",
      "Epoch 248/300\n",
      "4/4 [==============================] - 0s 10ms/step - loss: 0.3619 - accuracy: 0.9583 - mse: 0.0637 - mae: 0.1891 - val_loss: 0.4065 - val_accuracy: 0.9667 - val_mse: 0.0735 - val_mae: 0.2097\n",
      "Epoch 249/300\n",
      "4/4 [==============================] - 0s 9ms/step - loss: 0.3608 - accuracy: 0.9583 - mse: 0.0634 - mae: 0.1887 - val_loss: 0.4050 - val_accuracy: 0.9667 - val_mse: 0.0731 - val_mae: 0.2091\n",
      "Epoch 250/300\n",
      "4/4 [==============================] - 0s 10ms/step - loss: 0.3596 - accuracy: 0.9583 - mse: 0.0631 - mae: 0.1883 - val_loss: 0.4037 - val_accuracy: 0.9667 - val_mse: 0.0728 - val_mae: 0.2086\n",
      "Epoch 251/300\n",
      "4/4 [==============================] - 0s 10ms/step - loss: 0.3585 - accuracy: 0.9583 - mse: 0.0629 - mae: 0.1878 - val_loss: 0.4024 - val_accuracy: 0.9667 - val_mse: 0.0725 - val_mae: 0.2081\n",
      "Epoch 252/300\n",
      "4/4 [==============================] - 0s 10ms/step - loss: 0.3573 - accuracy: 0.9583 - mse: 0.0626 - mae: 0.1873 - val_loss: 0.4011 - val_accuracy: 0.9667 - val_mse: 0.0722 - val_mae: 0.2075\n",
      "Epoch 253/300\n",
      "4/4 [==============================] - 0s 9ms/step - loss: 0.3562 - accuracy: 0.9583 - mse: 0.0624 - mae: 0.1868 - val_loss: 0.4000 - val_accuracy: 0.9667 - val_mse: 0.0720 - val_mae: 0.2070\n",
      "Epoch 254/300\n",
      "4/4 [==============================] - 0s 9ms/step - loss: 0.3550 - accuracy: 0.9583 - mse: 0.0621 - mae: 0.1863 - val_loss: 0.3986 - val_accuracy: 0.9667 - val_mse: 0.0717 - val_mae: 0.2065\n",
      "Epoch 255/300\n",
      "4/4 [==============================] - 0s 9ms/step - loss: 0.3539 - accuracy: 0.9583 - mse: 0.0619 - mae: 0.1858 - val_loss: 0.3974 - val_accuracy: 0.9667 - val_mse: 0.0714 - val_mae: 0.2060\n",
      "Epoch 256/300\n",
      "4/4 [==============================] - 0s 9ms/step - loss: 0.3528 - accuracy: 0.9583 - mse: 0.0617 - mae: 0.1853 - val_loss: 0.3962 - val_accuracy: 0.9667 - val_mse: 0.0712 - val_mae: 0.2055\n",
      "Epoch 257/300\n",
      "4/4 [==============================] - 0s 9ms/step - loss: 0.3518 - accuracy: 0.9583 - mse: 0.0614 - mae: 0.1849 - val_loss: 0.3946 - val_accuracy: 0.9667 - val_mse: 0.0707 - val_mae: 0.2049\n",
      "Epoch 258/300\n",
      "4/4 [==============================] - 0s 9ms/step - loss: 0.3506 - accuracy: 0.9583 - mse: 0.0611 - mae: 0.1844 - val_loss: 0.3936 - val_accuracy: 0.9667 - val_mse: 0.0705 - val_mae: 0.2044\n",
      "Epoch 259/300\n",
      "4/4 [==============================] - 0s 10ms/step - loss: 0.3495 - accuracy: 0.9583 - mse: 0.0609 - mae: 0.1838 - val_loss: 0.3925 - val_accuracy: 0.9667 - val_mse: 0.0703 - val_mae: 0.2039\n",
      "Epoch 260/300\n",
      "4/4 [==============================] - 0s 9ms/step - loss: 0.3483 - accuracy: 0.9583 - mse: 0.0607 - mae: 0.1833 - val_loss: 0.3911 - val_accuracy: 0.9667 - val_mse: 0.0699 - val_mae: 0.2034\n",
      "Epoch 261/300\n",
      "4/4 [==============================] - 0s 9ms/step - loss: 0.3473 - accuracy: 0.9583 - mse: 0.0604 - mae: 0.1830 - val_loss: 0.3894 - val_accuracy: 0.9667 - val_mse: 0.0695 - val_mae: 0.2028\n",
      "Epoch 262/300\n",
      "4/4 [==============================] - 0s 10ms/step - loss: 0.3461 - accuracy: 0.9583 - mse: 0.0601 - mae: 0.1826 - val_loss: 0.3882 - val_accuracy: 0.9667 - val_mse: 0.0692 - val_mae: 0.2023\n",
      "Epoch 263/300\n",
      "4/4 [==============================] - 0s 9ms/step - loss: 0.3449 - accuracy: 0.9583 - mse: 0.0598 - mae: 0.1821 - val_loss: 0.3870 - val_accuracy: 0.9667 - val_mse: 0.0689 - val_mae: 0.2018\n",
      "Epoch 264/300\n",
      "4/4 [==============================] - 0s 9ms/step - loss: 0.3439 - accuracy: 0.9583 - mse: 0.0596 - mae: 0.1815 - val_loss: 0.3861 - val_accuracy: 0.9667 - val_mse: 0.0688 - val_mae: 0.2013\n",
      "Epoch 265/300\n",
      "4/4 [==============================] - 0s 9ms/step - loss: 0.3428 - accuracy: 0.9583 - mse: 0.0594 - mae: 0.1810 - val_loss: 0.3847 - val_accuracy: 0.9667 - val_mse: 0.0684 - val_mae: 0.2008\n",
      "Epoch 266/300\n",
      "4/4 [==============================] - 0s 9ms/step - loss: 0.3416 - accuracy: 0.9583 - mse: 0.0591 - mae: 0.1806 - val_loss: 0.3834 - val_accuracy: 0.9667 - val_mse: 0.0681 - val_mae: 0.2002\n",
      "Epoch 267/300\n",
      "4/4 [==============================] - 0s 9ms/step - loss: 0.3405 - accuracy: 0.9583 - mse: 0.0589 - mae: 0.1800 - val_loss: 0.3824 - val_accuracy: 0.9667 - val_mse: 0.0679 - val_mae: 0.1998\n",
      "Epoch 268/300\n",
      "4/4 [==============================] - 0s 10ms/step - loss: 0.3395 - accuracy: 0.9583 - mse: 0.0587 - mae: 0.1795 - val_loss: 0.3814 - val_accuracy: 0.9667 - val_mse: 0.0677 - val_mae: 0.1993\n",
      "Epoch 269/300\n",
      "4/4 [==============================] - 0s 9ms/step - loss: 0.3383 - accuracy: 0.9583 - mse: 0.0584 - mae: 0.1790 - val_loss: 0.3800 - val_accuracy: 0.9667 - val_mse: 0.0674 - val_mae: 0.1987\n",
      "Epoch 270/300\n",
      "4/4 [==============================] - 0s 9ms/step - loss: 0.3373 - accuracy: 0.9583 - mse: 0.0582 - mae: 0.1786 - val_loss: 0.3786 - val_accuracy: 0.9667 - val_mse: 0.0670 - val_mae: 0.1982\n",
      "Epoch 271/300\n",
      "4/4 [==============================] - 0s 10ms/step - loss: 0.3361 - accuracy: 0.9583 - mse: 0.0579 - mae: 0.1781 - val_loss: 0.3774 - val_accuracy: 0.9667 - val_mse: 0.0667 - val_mae: 0.1977\n",
      "Epoch 272/300\n",
      "4/4 [==============================] - 0s 7ms/step - loss: 0.3351 - accuracy: 0.9583 - mse: 0.0577 - mae: 0.1777 - val_loss: 0.3762 - val_accuracy: 0.9667 - val_mse: 0.0665 - val_mae: 0.1972\n",
      "Epoch 273/300\n",
      "4/4 [==============================] - 0s 9ms/step - loss: 0.3339 - accuracy: 0.9667 - mse: 0.0574 - mae: 0.1772 - val_loss: 0.3750 - val_accuracy: 0.9667 - val_mse: 0.0662 - val_mae: 0.1967\n",
      "Epoch 274/300\n",
      "4/4 [==============================] - 0s 9ms/step - loss: 0.3329 - accuracy: 0.9667 - mse: 0.0571 - mae: 0.1768 - val_loss: 0.3735 - val_accuracy: 0.9667 - val_mse: 0.0658 - val_mae: 0.1961\n",
      "Epoch 275/300\n",
      "4/4 [==============================] - 0s 9ms/step - loss: 0.3318 - accuracy: 0.9667 - mse: 0.0568 - mae: 0.1764 - val_loss: 0.3721 - val_accuracy: 0.9667 - val_mse: 0.0654 - val_mae: 0.1956\n",
      "Epoch 276/300\n",
      "4/4 [==============================] - 0s 9ms/step - loss: 0.3307 - accuracy: 0.9667 - mse: 0.0566 - mae: 0.1759 - val_loss: 0.3710 - val_accuracy: 0.9667 - val_mse: 0.0652 - val_mae: 0.1951\n",
      "Epoch 277/300\n",
      "4/4 [==============================] - 0s 9ms/step - loss: 0.3297 - accuracy: 0.9667 - mse: 0.0564 - mae: 0.1754 - val_loss: 0.3699 - val_accuracy: 0.9667 - val_mse: 0.0650 - val_mae: 0.1946\n",
      "Epoch 278/300\n",
      "4/4 [==============================] - 0s 9ms/step - loss: 0.3287 - accuracy: 0.9667 - mse: 0.0561 - mae: 0.1750 - val_loss: 0.3685 - val_accuracy: 0.9667 - val_mse: 0.0646 - val_mae: 0.1941\n",
      "Epoch 279/300\n",
      "4/4 [==============================] - 0s 9ms/step - loss: 0.3275 - accuracy: 0.9667 - mse: 0.0559 - mae: 0.1746 - val_loss: 0.3673 - val_accuracy: 0.9667 - val_mse: 0.0643 - val_mae: 0.1936\n",
      "Epoch 280/300\n",
      "4/4 [==============================] - 0s 9ms/step - loss: 0.3265 - accuracy: 0.9667 - mse: 0.0556 - mae: 0.1741 - val_loss: 0.3660 - val_accuracy: 0.9667 - val_mse: 0.0640 - val_mae: 0.1931\n"
     ]
    },
    {
     "name": "stdout",
     "output_type": "stream",
     "text": [
      "Epoch 281/300\n",
      "4/4 [==============================] - 0s 7ms/step - loss: 0.3255 - accuracy: 0.9667 - mse: 0.0554 - mae: 0.1737 - val_loss: 0.3647 - val_accuracy: 0.9667 - val_mse: 0.0636 - val_mae: 0.1925\n",
      "Epoch 282/300\n",
      "4/4 [==============================] - 0s 10ms/step - loss: 0.3243 - accuracy: 0.9667 - mse: 0.0551 - mae: 0.1732 - val_loss: 0.3638 - val_accuracy: 0.9667 - val_mse: 0.0635 - val_mae: 0.1921\n",
      "Epoch 283/300\n",
      "4/4 [==============================] - 0s 10ms/step - loss: 0.3233 - accuracy: 0.9667 - mse: 0.0549 - mae: 0.1727 - val_loss: 0.3627 - val_accuracy: 0.9667 - val_mse: 0.0633 - val_mae: 0.1916\n",
      "Epoch 284/300\n",
      "4/4 [==============================] - 0s 9ms/step - loss: 0.3222 - accuracy: 0.9667 - mse: 0.0547 - mae: 0.1722 - val_loss: 0.3617 - val_accuracy: 0.9667 - val_mse: 0.0631 - val_mae: 0.1911\n",
      "Epoch 285/300\n",
      "4/4 [==============================] - 0s 10ms/step - loss: 0.3213 - accuracy: 0.9667 - mse: 0.0546 - mae: 0.1717 - val_loss: 0.3608 - val_accuracy: 0.9667 - val_mse: 0.0629 - val_mae: 0.1907\n",
      "Epoch 286/300\n",
      "4/4 [==============================] - 0s 9ms/step - loss: 0.3204 - accuracy: 0.9667 - mse: 0.0543 - mae: 0.1713 - val_loss: 0.3595 - val_accuracy: 0.9667 - val_mse: 0.0626 - val_mae: 0.1901\n",
      "Epoch 287/300\n",
      "4/4 [==============================] - 0s 10ms/step - loss: 0.3191 - accuracy: 0.9667 - mse: 0.0541 - mae: 0.1707 - val_loss: 0.3585 - val_accuracy: 0.9667 - val_mse: 0.0624 - val_mae: 0.1897\n",
      "Epoch 288/300\n",
      "4/4 [==============================] - 0s 9ms/step - loss: 0.3181 - accuracy: 0.9667 - mse: 0.0539 - mae: 0.1702 - val_loss: 0.3575 - val_accuracy: 0.9667 - val_mse: 0.0622 - val_mae: 0.1892\n",
      "Epoch 289/300\n",
      "4/4 [==============================] - 0s 9ms/step - loss: 0.3171 - accuracy: 0.9667 - mse: 0.0537 - mae: 0.1697 - val_loss: 0.3564 - val_accuracy: 0.9667 - val_mse: 0.0619 - val_mae: 0.1887\n",
      "Epoch 290/300\n",
      "4/4 [==============================] - 0s 10ms/step - loss: 0.3161 - accuracy: 0.9667 - mse: 0.0534 - mae: 0.1692 - val_loss: 0.3553 - val_accuracy: 0.9667 - val_mse: 0.0617 - val_mae: 0.1882\n",
      "Epoch 291/300\n",
      "4/4 [==============================] - 0s 10ms/step - loss: 0.3151 - accuracy: 0.9667 - mse: 0.0532 - mae: 0.1688 - val_loss: 0.3539 - val_accuracy: 0.9667 - val_mse: 0.0613 - val_mae: 0.1877\n",
      "Epoch 292/300\n",
      "4/4 [==============================] - 0s 9ms/step - loss: 0.3142 - accuracy: 0.9667 - mse: 0.0529 - mae: 0.1685 - val_loss: 0.3524 - val_accuracy: 0.9667 - val_mse: 0.0609 - val_mae: 0.1871\n",
      "Epoch 293/300\n",
      "4/4 [==============================] - 0s 10ms/step - loss: 0.3129 - accuracy: 0.9667 - mse: 0.0526 - mae: 0.1680 - val_loss: 0.3512 - val_accuracy: 0.9667 - val_mse: 0.0606 - val_mae: 0.1866\n",
      "Epoch 294/300\n",
      "4/4 [==============================] - 0s 11ms/step - loss: 0.3119 - accuracy: 0.9667 - mse: 0.0524 - mae: 0.1675 - val_loss: 0.3502 - val_accuracy: 0.9667 - val_mse: 0.0604 - val_mae: 0.1861\n",
      "Epoch 295/300\n",
      "4/4 [==============================] - 0s 10ms/step - loss: 0.3109 - accuracy: 0.9667 - mse: 0.0522 - mae: 0.1671 - val_loss: 0.3491 - val_accuracy: 0.9667 - val_mse: 0.0601 - val_mae: 0.1856\n",
      "Epoch 296/300\n",
      "4/4 [==============================] - 0s 10ms/step - loss: 0.3099 - accuracy: 0.9667 - mse: 0.0519 - mae: 0.1666 - val_loss: 0.3478 - val_accuracy: 0.9667 - val_mse: 0.0598 - val_mae: 0.1851\n",
      "Epoch 297/300\n",
      "4/4 [==============================] - 0s 9ms/step - loss: 0.3089 - accuracy: 0.9667 - mse: 0.0517 - mae: 0.1662 - val_loss: 0.3467 - val_accuracy: 0.9667 - val_mse: 0.0595 - val_mae: 0.1846\n",
      "Epoch 298/300\n",
      "4/4 [==============================] - 0s 10ms/step - loss: 0.3079 - accuracy: 0.9667 - mse: 0.0514 - mae: 0.1658 - val_loss: 0.3452 - val_accuracy: 0.9667 - val_mse: 0.0591 - val_mae: 0.1841\n",
      "Epoch 299/300\n",
      "4/4 [==============================] - 0s 9ms/step - loss: 0.3069 - accuracy: 0.9667 - mse: 0.0512 - mae: 0.1654 - val_loss: 0.3439 - val_accuracy: 0.9667 - val_mse: 0.0588 - val_mae: 0.1835\n",
      "Epoch 300/300\n",
      "4/4 [==============================] - 0s 10ms/step - loss: 0.3058 - accuracy: 0.9667 - mse: 0.0509 - mae: 0.1649 - val_loss: 0.3429 - val_accuracy: 0.9667 - val_mse: 0.0585 - val_mae: 0.1831\n"
     ]
    },
    {
     "data": {
      "text/plain": [
       "<keras.callbacks.History at 0x2da0e9ea0a0>"
      ]
     },
     "execution_count": 121,
     "metadata": {},
     "output_type": "execute_result"
    }
   ],
   "source": [
    "model.fit(x=scaled_X_train, y=y_train, epochs=300,validation_data=(scaled_X_test, y_test), verbose=1 ,callbacks=[early_stop])  "
   ]
  },
  {
   "cell_type": "code",
   "execution_count": 122,
   "id": "94bc8d85",
   "metadata": {},
   "outputs": [],
   "source": [
    "metrics = pd.DataFrame(model.history.history)"
   ]
  },
  {
   "cell_type": "code",
   "execution_count": 123,
   "id": "9a406262",
   "metadata": {},
   "outputs": [
    {
     "data": {
      "text/plain": [
       "<AxesSubplot:>"
      ]
     },
     "execution_count": 123,
     "metadata": {},
     "output_type": "execute_result"
    },
    {
     "data": {
      "image/png": "[encoded data removed]",
      "text/plain": [
       "<Figure size 432x288 with 1 Axes>"
      ]
     },
     "metadata": {
      "needs_background": "light"
     },
     "output_type": "display_data"
    }
   ],
   "source": [
    "metrics.plot()"
   ]
  },
  {
   "cell_type": "code",
   "execution_count": 124,
   "id": "0b5869d4",
   "metadata": {},
   "outputs": [
    {
     "data": {
      "text/plain": [
       "<AxesSubplot:>"
      ]
     },
     "execution_count": 124,
     "metadata": {},
     "output_type": "execute_result"
    },
    {
     "data": {
      "image/png": "[encoded data removed]",
      "text/plain": [
       "<Figure size 432x288 with 1 Axes>"
      ]
     },
     "metadata": {
      "needs_background": "light"
     },
     "output_type": "display_data"
    }
   ],
   "source": [
    "metrics[['loss','val_loss']].plot()"
   ]
  },
  {
   "cell_type": "code",
   "execution_count": 125,
   "id": "40d162d8",
   "metadata": {},
   "outputs": [
    {
     "data": {
      "text/plain": [
       "<AxesSubplot:>"
      ]
     },
     "execution_count": 125,
     "metadata": {},
     "output_type": "execute_result"
    },
    {
     "data": {
      "image/png": "[encoded data removed]",
      "text/plain": [
       "<Figure size 432x288 with 1 Axes>"
      ]
     },
     "metadata": {
      "needs_background": "light"
     },
     "output_type": "display_data"
    }
   ],
   "source": [
    "metrics[['accuracy','val_accuracy']].plot()"
   ]
  },
  {
   "cell_type": "code",
   "execution_count": 126,
   "id": "e1ca19b2",
   "metadata": {
    "scrolled": true
   },
   "outputs": [
    {
     "data": {
      "text/plain": [
       "<AxesSubplot:>"
      ]
     },
     "execution_count": 126,
     "metadata": {},
     "output_type": "execute_result"
    },
    {
     "data": {
      "image/png": "[encoded data removed]",
      "text/plain": [
       "<Figure size 432x288 with 1 Axes>"
      ]
     },
     "metadata": {
      "needs_background": "light"
     },
     "output_type": "display_data"
    }
   ],
   "source": [
    "metrics[['mse','val_mse']].plot()"
   ]
  },
  {
   "cell_type": "code",
   "execution_count": 127,
   "id": "64bc584d",
   "metadata": {},
   "outputs": [],
   "source": [
    "from tensorflow import keras"
   ]
  },
  {
   "cell_type": "code",
   "execution_count": 128,
   "id": "86438009",
   "metadata": {},
   "outputs": [
    {
     "name": "stdout",
     "output_type": "stream",
     "text": [
      "WARNING:tensorflow:6 out of the last 7 calls to <function Model.make_predict_function.<locals>.predict_function at 0x000002DA13BFFD30> triggered tf.function retracing. Tracing is expensive and the excessive number of tracings could be due to (1) creating @tf.function repeatedly in a loop, (2) passing tensors with different shapes, (3) passing Python objects instead of tensors. For (1), please define your @tf.function outside of the loop. For (2), @tf.function has reduce_retracing=True option that can avoid unnecessary retracing. For (3), please refer to https://www.tensorflow.org/guide/function#controlling_retracing and https://www.tensorflow.org/api_docs/python/tf/function for  more details.\n",
      "1/1 [==============================] - 0s 31ms/step\n",
      "accuracy: 96.67%\n"
     ]
    }
   ],
   "source": [
    "y_pred = model.predict(scaled_X_test)\n",
    "y_pred=np.argmax(y_pred, axis=1)\n",
    "\n",
    "#keras.metrics.categorical_accuracy(y_test, y_pred)\n",
    "\n",
    "score = model.evaluate(scaled_X_test,y_test,verbose=0)\n",
    "print(\"%s: %.2f%%\" % (model.metrics_names[1], score[1]*100))"
   ]
  },
  {
   "cell_type": "code",
   "execution_count": 129,
   "id": "f98ea307",
   "metadata": {},
   "outputs": [],
   "source": [
    "from sklearn import metrics"
   ]
  },
  {
   "cell_type": "code",
   "execution_count": 137,
   "id": "366b2605",
   "metadata": {},
   "outputs": [
    {
     "data": {
      "text/plain": [
       "array([[10,  0,  0],\n",
       "       [ 0, 11,  1],\n",
       "       [ 0,  0,  8]], dtype=int64)"
      ]
     },
     "execution_count": 137,
     "metadata": {},
     "output_type": "execute_result"
    }
   ],
   "source": [
    "#y_pred = model.predict(scaled_X_test)\n",
    "#y_pred=np.argmax(y_pred, axis=1)\n",
    "#y_test=np.argmax(y_test, axis=1)\n",
    "metrics.confusion_matrix(y_test, y_pred, labels=[0, 1, 2])"
   ]
  },
  {
   "cell_type": "code",
   "execution_count": 138,
   "id": "22b6fc20",
   "metadata": {},
   "outputs": [
    {
     "name": "stdout",
     "output_type": "stream",
     "text": [
      "              precision    recall  f1-score   support\n",
      "\n",
      "     class 0       1.00      1.00      1.00        10\n",
      "     class 1       1.00      0.92      0.96        12\n",
      "     class 2       0.89      1.00      0.94         8\n",
      "\n",
      "    accuracy                           0.97        30\n",
      "   macro avg       0.96      0.97      0.97        30\n",
      "weighted avg       0.97      0.97      0.97        30\n",
      "\n"
     ]
    }
   ],
   "source": [
    "from sklearn.metrics import classification_report\n",
    "target_names = ['class 0', 'class 1', 'class 2']\n",
    "print(classification_report(y_test, y_pred, target_names=target_names))"
   ]
  },
  {
   "cell_type": "code",
   "execution_count": 132,
   "id": "a21b329f",
   "metadata": {},
   "outputs": [],
   "source": [
    "model.save(\"iris_classifier_model.h5\")"
   ]
  },
  {
   "cell_type": "code",
   "execution_count": 133,
   "id": "6b902505",
   "metadata": {},
   "outputs": [
    {
     "data": {
      "text/plain": [
       "['iris_scaler.pkl']"
      ]
     },
     "execution_count": 133,
     "metadata": {},
     "output_type": "execute_result"
    }
   ],
   "source": [
    "joblib.dump(scaler,'iris_scaler.pkl')"
   ]
  },
  {
   "cell_type": "code",
   "execution_count": null,
   "id": "2fb9f009",
   "metadata": {},
   "outputs": [],
   "source": []
  }
 ],
 "metadata": {
  "kernelspec": {
   "display_name": "Python 3 (ipykernel)",
   "language": "python",
   "name": "python3"
  },
  "language_info": {
   "codemirror_mode": {
    "name": "ipython",
    "version": 3
   },
   "file_extension": ".py",
   "mimetype": "text/x-python",
   "name": "python",
   "nbconvert_exporter": "python",
   "pygments_lexer": "ipython3",
   "version": "3.9.12"
  }
 },
 "nbformat": 4,
 "nbformat_minor": 5
}
